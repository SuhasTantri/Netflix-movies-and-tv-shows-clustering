{
  "nbformat": 4,
  "nbformat_minor": 0,
  "metadata": {
    "colab": {
      "name": "Raghavendra and Suhas Team NETFLIX MOVIES AND TV SHOWS CLUSTERING.ipynb",
      "provenance": [],
      "collapsed_sections": [],
      "include_colab_link": true
    },
    "kernelspec": {
      "name": "python3",
      "display_name": "Python 3"
    },
    "language_info": {
      "name": "python"
    }
  },
  "cells": [
    {
      "cell_type": "markdown",
      "metadata": {
        "id": "view-in-github",
        "colab_type": "text"
      },
      "source": [
        "<a href=\"https://colab.research.google.com/github/SuhasTantri/Netflix-movies-and-tv-shows-clustering/blob/main/Raghavendra_and_Suhas_Team_NETFLIX_MOVIES_AND_TV_SHOWS_CLUSTERING.ipynb\" target=\"_parent\"><img src=\"https://colab.research.google.com/assets/colab-badge.svg\" alt=\"Open In Colab\"/></a>"
      ]
    },
    {
      "cell_type": "markdown",
      "metadata": {
        "id": "LGcl5Bv9ed6u"
      },
      "source": [
        "# **Problem Statement**"
      ]
    },
    {
      "cell_type": "markdown",
      "metadata": {
        "id": "8M5kyFaVjzXk"
      },
      "source": [
        "This dataset consists of tv shows and movies available on Netflix as of 2019. The dataset is collected from Flixable which is a third-party Netflix search engine.\n",
        "\n",
        "In 2018, they released an interesting report which shows that the number of TV shows on Netflix has nearly tripled since 2010. The streaming service’s number of movies has decreased by more than 2,000 titles since 2010, while its number of TV shows has nearly tripled. It will be interesting to explore what all other insights can be obtained from the same dataset.\n",
        "\n",
        "Integrating this dataset with other external datasets such as IMDB ratings, rotten tomatoes can also provide many interesting findings."
      ]
    },
    {
      "cell_type": "markdown",
      "metadata": {
        "id": "tLx5cJO8hzb1"
      },
      "source": [
        "## <b>In this  project, you are required to do </b>\n",
        "1. Exploratory Data Analysis \n",
        "\n",
        "2. Understanding what type content is available in different countries\n",
        "\n",
        "3. Is Netflix has increasingly focusing on TV rather than movies in recent years.\n",
        "4. Clustering similar content by matching text-based features\n",
        "\n"
      ]
    },
    {
      "cell_type": "markdown",
      "metadata": {
        "id": "AzGDqdC4fZ-b"
      },
      "source": [
        "# **Attribute Information**"
      ]
    },
    {
      "cell_type": "markdown",
      "metadata": {
        "id": "jhfLYargscGV"
      },
      "source": [
        "1. show_id : Unique ID for every Movie / Tv Show\n",
        "\n",
        "2. type : Identifier - A Movie or TV Show\n",
        "\n",
        "3. title : Title of the Movie / Tv Show\n",
        "\n",
        "4. director : Director of the Movie\n",
        "\n",
        "5. cast : Actors involved in the movie / show\n",
        "\n",
        "6. country : Country where the movie / show was produced\n",
        "\n",
        "7. date_added : Date it was added on Netflix\n",
        "\n",
        "8. release_year : Actual Releaseyear of the movie / show\n",
        "\n",
        "9. rating : TV Rating of the movie / show\n",
        "\n",
        "10. duration : Total Duration - in minutes or number of seasons\n",
        "\n",
        "11. listed_in : Genere\n",
        "\n",
        "12. description: The Summary description"
      ]
    },
    {
      "cell_type": "code",
      "metadata": {
        "id": "TpJSSrzuyvyl"
      },
      "source": [
        "# Importing necessary libraries\n",
        "%matplotlib inline\n",
        "import matplotlib.pyplot as plt\n",
        "import seaborn as sns\n",
        "import numpy as np\n",
        "import pandas as pd"
      ],
      "execution_count": 5,
      "outputs": []
    },
    {
      "cell_type": "code",
      "metadata": {
        "colab": {
          "base_uri": "https://localhost:8080/"
        },
        "id": "F82Bhc0dyv2i",
        "outputId": "f46346a3-b65d-4534-c3cf-39cddc215a99"
      },
      "source": [
        "# Mounting the drive\n",
        "from google.colab import drive\n",
        "drive.mount('/content/drive')"
      ],
      "execution_count": 6,
      "outputs": [
        {
          "output_type": "stream",
          "name": "stdout",
          "text": [
            "Drive already mounted at /content/drive; to attempt to forcibly remount, call drive.mount(\"/content/drive\", force_remount=True).\n"
          ]
        }
      ]
    },
    {
      "cell_type": "code",
      "metadata": {
        "colab": {
          "base_uri": "https://localhost:8080/",
          "height": 362
        },
        "id": "qjC5kqD5yv5e",
        "outputId": "c41eb47a-b526-45c7-9e7b-4bcbb092464f"
      },
      "source": [
        "# Reading the dataset\n",
        "df=pd.read_csv('/content/drive/MyDrive/Netflix Clustering Capstone Project/NETFLIX MOVIES AND TV SHOWS CLUSTERING (1).csv')\n",
        "# A brief look at the dataset\n",
        "df.head(5)"
      ],
      "execution_count": 7,
      "outputs": [
        {
          "output_type": "execute_result",
          "data": {
            "text/html": [
              "<div>\n",
              "<style scoped>\n",
              "    .dataframe tbody tr th:only-of-type {\n",
              "        vertical-align: middle;\n",
              "    }\n",
              "\n",
              "    .dataframe tbody tr th {\n",
              "        vertical-align: top;\n",
              "    }\n",
              "\n",
              "    .dataframe thead th {\n",
              "        text-align: right;\n",
              "    }\n",
              "</style>\n",
              "<table border=\"1\" class=\"dataframe\">\n",
              "  <thead>\n",
              "    <tr style=\"text-align: right;\">\n",
              "      <th></th>\n",
              "      <th>show_id</th>\n",
              "      <th>type</th>\n",
              "      <th>title</th>\n",
              "      <th>director</th>\n",
              "      <th>cast</th>\n",
              "      <th>country</th>\n",
              "      <th>date_added</th>\n",
              "      <th>release_year</th>\n",
              "      <th>rating</th>\n",
              "      <th>duration</th>\n",
              "      <th>listed_in</th>\n",
              "      <th>description</th>\n",
              "    </tr>\n",
              "  </thead>\n",
              "  <tbody>\n",
              "    <tr>\n",
              "      <th>0</th>\n",
              "      <td>s1</td>\n",
              "      <td>TV Show</td>\n",
              "      <td>3%</td>\n",
              "      <td>NaN</td>\n",
              "      <td>João Miguel, Bianca Comparato, Michel Gomes, R...</td>\n",
              "      <td>Brazil</td>\n",
              "      <td>August 14, 2020</td>\n",
              "      <td>2020</td>\n",
              "      <td>TV-MA</td>\n",
              "      <td>4 Seasons</td>\n",
              "      <td>International TV Shows, TV Dramas, TV Sci-Fi &amp;...</td>\n",
              "      <td>In a future where the elite inhabit an island ...</td>\n",
              "    </tr>\n",
              "    <tr>\n",
              "      <th>1</th>\n",
              "      <td>s2</td>\n",
              "      <td>Movie</td>\n",
              "      <td>7:19</td>\n",
              "      <td>Jorge Michel Grau</td>\n",
              "      <td>Demián Bichir, Héctor Bonilla, Oscar Serrano, ...</td>\n",
              "      <td>Mexico</td>\n",
              "      <td>December 23, 2016</td>\n",
              "      <td>2016</td>\n",
              "      <td>TV-MA</td>\n",
              "      <td>93 min</td>\n",
              "      <td>Dramas, International Movies</td>\n",
              "      <td>After a devastating earthquake hits Mexico Cit...</td>\n",
              "    </tr>\n",
              "    <tr>\n",
              "      <th>2</th>\n",
              "      <td>s3</td>\n",
              "      <td>Movie</td>\n",
              "      <td>23:59</td>\n",
              "      <td>Gilbert Chan</td>\n",
              "      <td>Tedd Chan, Stella Chung, Henley Hii, Lawrence ...</td>\n",
              "      <td>Singapore</td>\n",
              "      <td>December 20, 2018</td>\n",
              "      <td>2011</td>\n",
              "      <td>R</td>\n",
              "      <td>78 min</td>\n",
              "      <td>Horror Movies, International Movies</td>\n",
              "      <td>When an army recruit is found dead, his fellow...</td>\n",
              "    </tr>\n",
              "    <tr>\n",
              "      <th>3</th>\n",
              "      <td>s4</td>\n",
              "      <td>Movie</td>\n",
              "      <td>9</td>\n",
              "      <td>Shane Acker</td>\n",
              "      <td>Elijah Wood, John C. Reilly, Jennifer Connelly...</td>\n",
              "      <td>United States</td>\n",
              "      <td>November 16, 2017</td>\n",
              "      <td>2009</td>\n",
              "      <td>PG-13</td>\n",
              "      <td>80 min</td>\n",
              "      <td>Action &amp; Adventure, Independent Movies, Sci-Fi...</td>\n",
              "      <td>In a postapocalyptic world, rag-doll robots hi...</td>\n",
              "    </tr>\n",
              "    <tr>\n",
              "      <th>4</th>\n",
              "      <td>s5</td>\n",
              "      <td>Movie</td>\n",
              "      <td>21</td>\n",
              "      <td>Robert Luketic</td>\n",
              "      <td>Jim Sturgess, Kevin Spacey, Kate Bosworth, Aar...</td>\n",
              "      <td>United States</td>\n",
              "      <td>January 1, 2020</td>\n",
              "      <td>2008</td>\n",
              "      <td>PG-13</td>\n",
              "      <td>123 min</td>\n",
              "      <td>Dramas</td>\n",
              "      <td>A brilliant group of students become card-coun...</td>\n",
              "    </tr>\n",
              "  </tbody>\n",
              "</table>\n",
              "</div>"
            ],
            "text/plain": [
              "  show_id  ...                                        description\n",
              "0      s1  ...  In a future where the elite inhabit an island ...\n",
              "1      s2  ...  After a devastating earthquake hits Mexico Cit...\n",
              "2      s3  ...  When an army recruit is found dead, his fellow...\n",
              "3      s4  ...  In a postapocalyptic world, rag-doll robots hi...\n",
              "4      s5  ...  A brilliant group of students become card-coun...\n",
              "\n",
              "[5 rows x 12 columns]"
            ]
          },
          "metadata": {},
          "execution_count": 7
        }
      ]
    },
    {
      "cell_type": "code",
      "metadata": {
        "colab": {
          "base_uri": "https://localhost:8080/"
        },
        "id": "D9LUPe5R19lS",
        "outputId": "00932127-e53c-4307-be77-6361d1bd1117"
      },
      "source": [
        "# Looking at the information about the variable\n",
        "df.info()"
      ],
      "execution_count": 8,
      "outputs": [
        {
          "output_type": "stream",
          "name": "stdout",
          "text": [
            "<class 'pandas.core.frame.DataFrame'>\n",
            "RangeIndex: 7787 entries, 0 to 7786\n",
            "Data columns (total 12 columns):\n",
            " #   Column        Non-Null Count  Dtype \n",
            "---  ------        --------------  ----- \n",
            " 0   show_id       7787 non-null   object\n",
            " 1   type          7787 non-null   object\n",
            " 2   title         7787 non-null   object\n",
            " 3   director      5398 non-null   object\n",
            " 4   cast          7069 non-null   object\n",
            " 5   country       7280 non-null   object\n",
            " 6   date_added    7777 non-null   object\n",
            " 7   release_year  7787 non-null   int64 \n",
            " 8   rating        7780 non-null   object\n",
            " 9   duration      7787 non-null   object\n",
            " 10  listed_in     7787 non-null   object\n",
            " 11  description   7787 non-null   object\n",
            "dtypes: int64(1), object(11)\n",
            "memory usage: 730.2+ KB\n"
          ]
        }
      ]
    },
    {
      "cell_type": "code",
      "metadata": {
        "id": "AbHekaYzyv8y"
      },
      "source": [
        "# Splitting listed in column with delimitor as , \n",
        "ll=list(df.listed_in)\n",
        "list_of_listed_in=[]\n",
        "for i in range(0,7787):\n",
        "  list_of_listed_in.append(ll[i].split(','))\n"
      ],
      "execution_count": 9,
      "outputs": []
    },
    {
      "cell_type": "code",
      "metadata": {
        "id": "u6Di0C1Q3w07"
      },
      "source": [
        "# Removing the ensted list to process the data\n",
        "output=[]\n",
        "def reemovNestings(l):\n",
        "   \n",
        "    for i in l:\n",
        "        if type(i) == list:\n",
        "            reemovNestings(i)\n",
        "        else:\n",
        "            output.append(i)\n",
        "reemovNestings(list_of_listed_in)\n"
      ],
      "execution_count": 10,
      "outputs": []
    },
    {
      "cell_type": "code",
      "metadata": {
        "id": "uk21Le3_9mwP"
      },
      "source": [
        "# Removing the whitespace frpm the list\n",
        "o=[]\n",
        "for z in output:\n",
        "  o.append(z.strip())"
      ],
      "execution_count": 11,
      "outputs": []
    },
    {
      "cell_type": "code",
      "metadata": {
        "id": "1YYldLdbywAS"
      },
      "source": [
        "# Getting the word count of listed in\n",
        "listed_in_count = {}\n",
        "\n",
        "for i in o:\n",
        "  if i in listed_in_count.keys():\n",
        "    listed_in_count[i] += 1\n",
        "  else:\n",
        "    listed_in_count[i] = 1"
      ],
      "execution_count": 12,
      "outputs": []
    },
    {
      "cell_type": "code",
      "metadata": {
        "colab": {
          "base_uri": "https://localhost:8080/"
        },
        "id": "1VYkc0JK5yvf",
        "outputId": "08d64a06-b2c1-41d3-b198-341aedcb36b6"
      },
      "source": [
        "listed_in_count"
      ],
      "execution_count": 13,
      "outputs": [
        {
          "output_type": "execute_result",
          "data": {
            "text/plain": [
              "{'Action & Adventure': 721,\n",
              " 'Anime Features': 57,\n",
              " 'Anime Series': 148,\n",
              " 'British TV Shows': 232,\n",
              " 'Children & Family Movies': 532,\n",
              " 'Classic & Cult TV': 27,\n",
              " 'Classic Movies': 103,\n",
              " 'Comedies': 1471,\n",
              " 'Crime TV Shows': 427,\n",
              " 'Cult Movies': 59,\n",
              " 'Documentaries': 786,\n",
              " 'Docuseries': 353,\n",
              " 'Dramas': 2106,\n",
              " 'Faith & Spirituality': 57,\n",
              " 'Horror Movies': 312,\n",
              " 'Independent Movies': 673,\n",
              " 'International Movies': 2437,\n",
              " 'International TV Shows': 1199,\n",
              " \"Kids' TV\": 414,\n",
              " 'Korean TV Shows': 150,\n",
              " 'LGBTQ Movies': 90,\n",
              " 'Movies': 56,\n",
              " 'Music & Musicals': 321,\n",
              " 'Reality TV': 222,\n",
              " 'Romantic Movies': 531,\n",
              " 'Romantic TV Shows': 333,\n",
              " 'Sci-Fi & Fantasy': 218,\n",
              " 'Science & Nature TV': 85,\n",
              " 'Spanish-Language TV Shows': 147,\n",
              " 'Sports Movies': 196,\n",
              " 'Stand-Up Comedy': 329,\n",
              " 'Stand-Up Comedy & Talk Shows': 52,\n",
              " 'TV Action & Adventure': 150,\n",
              " 'TV Comedies': 525,\n",
              " 'TV Dramas': 704,\n",
              " 'TV Horror': 69,\n",
              " 'TV Mysteries': 90,\n",
              " 'TV Sci-Fi & Fantasy': 76,\n",
              " 'TV Shows': 12,\n",
              " 'TV Thrillers': 50,\n",
              " 'Teen TV Shows': 60,\n",
              " 'Thrillers': 491}"
            ]
          },
          "metadata": {},
          "execution_count": 13
        }
      ]
    },
    {
      "cell_type": "code",
      "metadata": {
        "colab": {
          "base_uri": "https://localhost:8080/",
          "height": 174
        },
        "id": "thf3N6Cl6OmR",
        "outputId": "e2735d09-73af-407a-9258-cf6d2cf595d7"
      },
      "source": [
        "# Making word count dictionary as dataframe to visualise\n",
        "listed_in_df=pd.DataFrame(listed_in_count.items(), columns=['Categories', 'Count'])\n",
        "listed_in_df.set_index('Categories')\n",
        "listed_in_df.head(4)"
      ],
      "execution_count": 14,
      "outputs": [
        {
          "output_type": "execute_result",
          "data": {
            "text/html": [
              "<div>\n",
              "<style scoped>\n",
              "    .dataframe tbody tr th:only-of-type {\n",
              "        vertical-align: middle;\n",
              "    }\n",
              "\n",
              "    .dataframe tbody tr th {\n",
              "        vertical-align: top;\n",
              "    }\n",
              "\n",
              "    .dataframe thead th {\n",
              "        text-align: right;\n",
              "    }\n",
              "</style>\n",
              "<table border=\"1\" class=\"dataframe\">\n",
              "  <thead>\n",
              "    <tr style=\"text-align: right;\">\n",
              "      <th></th>\n",
              "      <th>Categories</th>\n",
              "      <th>Count</th>\n",
              "    </tr>\n",
              "  </thead>\n",
              "  <tbody>\n",
              "    <tr>\n",
              "      <th>0</th>\n",
              "      <td>International TV Shows</td>\n",
              "      <td>1199</td>\n",
              "    </tr>\n",
              "    <tr>\n",
              "      <th>1</th>\n",
              "      <td>TV Dramas</td>\n",
              "      <td>704</td>\n",
              "    </tr>\n",
              "    <tr>\n",
              "      <th>2</th>\n",
              "      <td>TV Sci-Fi &amp; Fantasy</td>\n",
              "      <td>76</td>\n",
              "    </tr>\n",
              "    <tr>\n",
              "      <th>3</th>\n",
              "      <td>Dramas</td>\n",
              "      <td>2106</td>\n",
              "    </tr>\n",
              "  </tbody>\n",
              "</table>\n",
              "</div>"
            ],
            "text/plain": [
              "               Categories  Count\n",
              "0  International TV Shows   1199\n",
              "1               TV Dramas    704\n",
              "2     TV Sci-Fi & Fantasy     76\n",
              "3                  Dramas   2106"
            ]
          },
          "metadata": {},
          "execution_count": 14
        }
      ]
    },
    {
      "cell_type": "code",
      "metadata": {
        "colab": {
          "base_uri": "https://localhost:8080/",
          "height": 421
        },
        "id": "Xe_3wCUf8MG9",
        "outputId": "89efedfd-947a-439d-b7d4-dfe21afbf4c7"
      },
      "source": [
        "# Bar graph\n",
        "ld=listed_in_df.sort_values(by='Count',ascending=False)[0:10].reset_index()\n",
        "plt.figure(figsize=(25,7))\n",
        "sns.barplot(x=\"Categories\", y=\"Count\", data=ld)\n",
        "plt.title('Top 10 genre ')"
      ],
      "execution_count": 15,
      "outputs": [
        {
          "output_type": "execute_result",
          "data": {
            "text/plain": [
              "Text(0.5, 1.0, 'Top 10 genre ')"
            ]
          },
          "metadata": {},
          "execution_count": 15
        },
        {
          "output_type": "display_data",
          "data": {
            "image/png": "[encoded data removed]",
            "text/plain": [
              "<Figure size 1800x504 with 1 Axes>"
            ]
          },
          "metadata": {
            "needs_background": "light"
          }
        }
      ]
    },
    {
      "cell_type": "code",
      "metadata": {
        "colab": {
          "base_uri": "https://localhost:8080/",
          "height": 312
        },
        "id": "dqUpgvyd-n5J",
        "outputId": "dd4d2cf5-0184-4633-ea3e-e2e631465f75"
      },
      "source": [
        "# Count plot\n",
        "sns.countplot(x='type',data=df)\n",
        "plt.title('Count of Movies and TV shows ')"
      ],
      "execution_count": 16,
      "outputs": [
        {
          "output_type": "execute_result",
          "data": {
            "text/plain": [
              "Text(0.5, 1.0, 'Count of Movies and TV shows ')"
            ]
          },
          "metadata": {},
          "execution_count": 16
        },
        {
          "output_type": "display_data",
          "data": {
            "image/png": "[encoded data removed]",
            "text/plain": [
              "<Figure size 432x288 with 1 Axes>"
            ]
          },
          "metadata": {
            "needs_background": "light"
          }
        }
      ]
    },
    {
      "cell_type": "code",
      "metadata": {
        "colab": {
          "base_uri": "https://localhost:8080/"
        },
        "id": "keSiCGem_Jb9",
        "outputId": "b82b9329-8f5b-4428-9621-849e4a2994d2"
      },
      "source": [
        "df['country'].value_counts()"
      ],
      "execution_count": 17,
      "outputs": [
        {
          "output_type": "execute_result",
          "data": {
            "text/plain": [
              "United States                                                   2555\n",
              "India                                                            923\n",
              "United Kingdom                                                   397\n",
              "Japan                                                            226\n",
              "South Korea                                                      183\n",
              "                                                                ... \n",
              "Russia, United States, China                                       1\n",
              "Italy, Switzerland, France, Germany                                1\n",
              "United States, United Kingdom, Canada                              1\n",
              "United States, United Kingdom, Japan                               1\n",
              "Sweden, Czech Republic, United Kingdom, Denmark, Netherlands       1\n",
              "Name: country, Length: 681, dtype: int64"
            ]
          },
          "metadata": {},
          "execution_count": 17
        }
      ]
    },
    {
      "cell_type": "code",
      "metadata": {
        "id": "DpiR_-QN-3os"
      },
      "source": [
        "# Handling null values\n",
        "df['country'].fillna(value='No Country',inplace=True)"
      ],
      "execution_count": 18,
      "outputs": []
    },
    {
      "cell_type": "code",
      "metadata": {
        "id": "Kwxk1IQO_JjJ"
      },
      "source": [
        "# Splitting the country column with ',' as delimiter\n",
        "lc=list(df.country)\n",
        "list_of_country=[]\n",
        "for i in range(0,7787):\n",
        "  list_of_country.append(lc[i].split(','))"
      ],
      "execution_count": 19,
      "outputs": []
    },
    {
      "cell_type": "code",
      "metadata": {
        "id": "KSylO1fC860E"
      },
      "source": [
        "# Removing the nested list\n",
        "output1=[]\n",
        "def reemovNestings(l):\n",
        "    for i in l:\n",
        "        if type(i) == list:\n",
        "            reemovNestings(i)\n",
        "        else:\n",
        "            output1.append(i)\n",
        "\n",
        "reemovNestings(list_of_country)\n",
        "\n"
      ],
      "execution_count": 20,
      "outputs": []
    },
    {
      "cell_type": "code",
      "metadata": {
        "id": "9BYb5a8U97wf"
      },
      "source": [
        "# Removing the whitespace\n",
        "o1=[]\n",
        "for z in output1:\n",
        "  o1.append(z.strip())"
      ],
      "execution_count": 21,
      "outputs": []
    },
    {
      "cell_type": "code",
      "metadata": {
        "id": "InG8QwZR863W"
      },
      "source": [
        "# Getting the country count\n",
        "list_of_country_count = {}\n",
        "\n",
        "for i in o1:\n",
        "  if i in list_of_country_count.keys():\n",
        "    list_of_country_count[i] += 1\n",
        "  else:\n",
        "    list_of_country_count[i] = 1"
      ],
      "execution_count": 22,
      "outputs": []
    },
    {
      "cell_type": "code",
      "metadata": {
        "colab": {
          "base_uri": "https://localhost:8080/",
          "height": 174
        },
        "id": "rchKqbJs868m",
        "outputId": "102f10ce-8f99-4feb-9b6d-e26fc4d54205"
      },
      "source": [
        "# Converting the country count dictionary to dataframe for visualisation\n",
        "listed_in_df1=pd.DataFrame(list_of_country_count.items(), columns=['Country', 'Count'])\n",
        "listed_in_df1.set_index('Country')\n",
        "listed_in_df1.head(4)"
      ],
      "execution_count": 23,
      "outputs": [
        {
          "output_type": "execute_result",
          "data": {
            "text/html": [
              "<div>\n",
              "<style scoped>\n",
              "    .dataframe tbody tr th:only-of-type {\n",
              "        vertical-align: middle;\n",
              "    }\n",
              "\n",
              "    .dataframe tbody tr th {\n",
              "        vertical-align: top;\n",
              "    }\n",
              "\n",
              "    .dataframe thead th {\n",
              "        text-align: right;\n",
              "    }\n",
              "</style>\n",
              "<table border=\"1\" class=\"dataframe\">\n",
              "  <thead>\n",
              "    <tr style=\"text-align: right;\">\n",
              "      <th></th>\n",
              "      <th>Country</th>\n",
              "      <th>Count</th>\n",
              "    </tr>\n",
              "  </thead>\n",
              "  <tbody>\n",
              "    <tr>\n",
              "      <th>0</th>\n",
              "      <td>Brazil</td>\n",
              "      <td>88</td>\n",
              "    </tr>\n",
              "    <tr>\n",
              "      <th>1</th>\n",
              "      <td>Mexico</td>\n",
              "      <td>154</td>\n",
              "    </tr>\n",
              "    <tr>\n",
              "      <th>2</th>\n",
              "      <td>Singapore</td>\n",
              "      <td>39</td>\n",
              "    </tr>\n",
              "    <tr>\n",
              "      <th>3</th>\n",
              "      <td>United States</td>\n",
              "      <td>3297</td>\n",
              "    </tr>\n",
              "  </tbody>\n",
              "</table>\n",
              "</div>"
            ],
            "text/plain": [
              "         Country  Count\n",
              "0         Brazil     88\n",
              "1         Mexico    154\n",
              "2      Singapore     39\n",
              "3  United States   3297"
            ]
          },
          "metadata": {},
          "execution_count": 23
        }
      ]
    },
    {
      "cell_type": "code",
      "metadata": {
        "colab": {
          "base_uri": "https://localhost:8080/",
          "height": 476
        },
        "id": "3yhJyxQo865s",
        "outputId": "a9d6c612-ccca-4331-cfa9-5b5bf62d4d3a"
      },
      "source": [
        "# Bar graph\n",
        "ld1=listed_in_df1.sort_values(by='Count',ascending=False)[:11].reset_index()\n",
        "plt.figure(figsize=(20,7))\n",
        "sns.barplot(x=\"Country\", y=\"Count\", data=ld1)\n",
        "plt.title('Top 10 Countries with most number of movies/shows produced')"
      ],
      "execution_count": 24,
      "outputs": [
        {
          "output_type": "execute_result",
          "data": {
            "text/plain": [
              "Text(0.5, 1.0, 'Top 10 Countries with most number of movies/shows produced')"
            ]
          },
          "metadata": {},
          "execution_count": 24
        },
        {
          "output_type": "display_data",
          "data": {
            "image/png": "[encoded data removed]",
            "text/plain": [
              "<Figure size 1440x504 with 1 Axes>"
            ]
          },
          "metadata": {
            "needs_background": "light"
          }
        }
      ]
    },
    {
      "cell_type": "code",
      "metadata": {
        "id": "Mmn-erAPErXt"
      },
      "source": [
        "# Importing datetime library to extract year and month from date\n",
        "import datetime as dt\n",
        "df['date_added'] = pd.to_datetime(df['date_added'])\n",
        "df['Year_added'] = df['date_added'].dt.year\n",
        "df['Month_added']=df['date_added'].dt.month\n",
        "\n"
      ],
      "execution_count": 25,
      "outputs": []
    },
    {
      "cell_type": "code",
      "metadata": {
        "colab": {
          "base_uri": "https://localhost:8080/",
          "height": 368
        },
        "id": "9yYrR-h3HnrW",
        "outputId": "a9970a84-c6a0-4e29-9ae1-38251d93ef5c"
      },
      "source": [
        "# Bar graph\n",
        "plt.figure(figsize=(12,5))\n",
        "plt.title('Year wise total number of shows')\n",
        "sns.countplot(x='Year_added',data=df)"
      ],
      "execution_count": 26,
      "outputs": [
        {
          "output_type": "execute_result",
          "data": {
            "text/plain": [
              "<matplotlib.axes._subplots.AxesSubplot at 0x7f4e71647d90>"
            ]
          },
          "metadata": {},
          "execution_count": 26
        },
        {
          "output_type": "display_data",
          "data": {
            "image/png": "[encoded data removed]",
            "text/plain": [
              "<Figure size 864x360 with 1 Axes>"
            ]
          },
          "metadata": {
            "needs_background": "light"
          }
        }
      ]
    },
    {
      "cell_type": "code",
      "metadata": {
        "colab": {
          "base_uri": "https://localhost:8080/",
          "height": 368
        },
        "id": "-0ACQuxwH5L4",
        "outputId": "f318cf5d-f935-47bf-9a35-e94da767c838"
      },
      "source": [
        "# Bar graph \n",
        "plt.figure(figsize=(12,5))\n",
        "plt.title('Month wise total number of shows')\n",
        "sns.countplot(x='Month_added',data=df)"
      ],
      "execution_count": 27,
      "outputs": [
        {
          "output_type": "execute_result",
          "data": {
            "text/plain": [
              "<matplotlib.axes._subplots.AxesSubplot at 0x7f4e71ed6450>"
            ]
          },
          "metadata": {},
          "execution_count": 27
        },
        {
          "output_type": "display_data",
          "data": {
            "image/png": "[encoded data removed]",
            "text/plain": [
              "<Figure size 864x360 with 1 Axes>"
            ]
          },
          "metadata": {
            "needs_background": "light"
          }
        }
      ]
    },
    {
      "cell_type": "code",
      "metadata": {
        "id": "BVnCo41cIy2c"
      },
      "source": [
        "# Making a copy of cast column and splitting them using ',' as delimiter\n",
        "casts = \", \".join(df.copy().fillna(\"\")['cast']).split(\", \")"
      ],
      "execution_count": 28,
      "outputs": []
    },
    {
      "cell_type": "code",
      "metadata": {
        "id": "ZcZqyzVjLeqN"
      },
      "source": [
        "# Getting the cast count dictionary\n",
        "list_of_casts= {}\n",
        "\n",
        "for i in casts:\n",
        "  if i in list_of_casts.keys():\n",
        "    list_of_casts[i] += 1\n",
        "  else:\n",
        "    list_of_casts[i] = 1"
      ],
      "execution_count": 29,
      "outputs": []
    },
    {
      "cell_type": "code",
      "metadata": {
        "colab": {
          "base_uri": "https://localhost:8080/",
          "height": 174
        },
        "id": "j4mdxqEtOFwI",
        "outputId": "58446a31-5d81-4a94-ce89-48f69571e11e"
      },
      "source": [
        "# Converting dictionary into dataframe\n",
        "listed_in_df2=pd.DataFrame(list_of_casts.items(), columns=['Cast_Name', 'Count'])\n",
        "listed_in_df2.set_index('Cast_Name').head(3)"
      ],
      "execution_count": 30,
      "outputs": [
        {
          "output_type": "execute_result",
          "data": {
            "text/html": [
              "<div>\n",
              "<style scoped>\n",
              "    .dataframe tbody tr th:only-of-type {\n",
              "        vertical-align: middle;\n",
              "    }\n",
              "\n",
              "    .dataframe tbody tr th {\n",
              "        vertical-align: top;\n",
              "    }\n",
              "\n",
              "    .dataframe thead th {\n",
              "        text-align: right;\n",
              "    }\n",
              "</style>\n",
              "<table border=\"1\" class=\"dataframe\">\n",
              "  <thead>\n",
              "    <tr style=\"text-align: right;\">\n",
              "      <th></th>\n",
              "      <th>Count</th>\n",
              "    </tr>\n",
              "    <tr>\n",
              "      <th>Cast_Name</th>\n",
              "      <th></th>\n",
              "    </tr>\n",
              "  </thead>\n",
              "  <tbody>\n",
              "    <tr>\n",
              "      <th>João Miguel</th>\n",
              "      <td>1</td>\n",
              "    </tr>\n",
              "    <tr>\n",
              "      <th>Bianca Comparato</th>\n",
              "      <td>2</td>\n",
              "    </tr>\n",
              "    <tr>\n",
              "      <th>Michel Gomes</th>\n",
              "      <td>1</td>\n",
              "    </tr>\n",
              "  </tbody>\n",
              "</table>\n",
              "</div>"
            ],
            "text/plain": [
              "                  Count\n",
              "Cast_Name              \n",
              "João Miguel           1\n",
              "Bianca Comparato      2\n",
              "Michel Gomes          1"
            ]
          },
          "metadata": {},
          "execution_count": 30
        }
      ]
    },
    {
      "cell_type": "code",
      "metadata": {
        "colab": {
          "base_uri": "https://localhost:8080/",
          "height": 476
        },
        "id": "wQKdPhtsPIaR",
        "outputId": "392dc4cb-0f39-45e0-9e6c-4798566f3cf9"
      },
      "source": [
        "# Bar graph of top 10 actors\n",
        "ld2=listed_in_df2.sort_values(by='Count',ascending=False)[1:10].reset_index()\n",
        "plt.figure(figsize=(20,7))\n",
        "sns.barplot(x=\"Cast_Name\", y=\"Count\", data=ld2,palette=\"Paired\")\n",
        "plt.title('Top 10 Cast Name with most number of movies/shows produced')"
      ],
      "execution_count": 31,
      "outputs": [
        {
          "output_type": "execute_result",
          "data": {
            "text/plain": [
              "Text(0.5, 1.0, 'Top 10 Cast Name with most number of movies/shows produced')"
            ]
          },
          "metadata": {},
          "execution_count": 31
        },
        {
          "output_type": "display_data",
          "data": {
            "image/png": "[encoded data removed]",
            "text/plain": [
              "<Figure size 1440x504 with 1 Axes>"
            ]
          },
          "metadata": {
            "needs_background": "light"
          }
        }
      ]
    },
    {
      "cell_type": "code",
      "metadata": {
        "id": "D-k-1m-oMDai"
      },
      "source": [
        "# getting value count of common directors\n",
        "most_common_directors = df.director.value_counts().head(5).sort_values(ascending=False)"
      ],
      "execution_count": 32,
      "outputs": []
    },
    {
      "cell_type": "code",
      "metadata": {
        "colab": {
          "base_uri": "https://localhost:8080/",
          "height": 367
        },
        "id": "hsKlSGoiMOXp",
        "outputId": "8e76b870-2f5c-4697-db0f-76c0272b082c"
      },
      "source": [
        "# Bar graph of top 5 directors\n",
        "md=most_common_directors.reset_index()\n",
        "plt.figure(figsize=(12,5))\n",
        "sns.barplot(x='index',y='director',data=md,palette='Set2')\n",
        "plt.title('Top 5 Directors')\n",
        "plt.xlabel('Directors')\n",
        "plt.ylabel('Count')"
      ],
      "execution_count": 33,
      "outputs": [
        {
          "output_type": "execute_result",
          "data": {
            "text/plain": [
              "Text(0, 0.5, 'Count')"
            ]
          },
          "metadata": {},
          "execution_count": 33
        },
        {
          "output_type": "display_data",
          "data": {
            "image/png": "[encoded data removed]",
            "text/plain": [
              "<Figure size 864x360 with 1 Axes>"
            ]
          },
          "metadata": {
            "needs_background": "light"
          }
        }
      ]
    },
    {
      "cell_type": "code",
      "metadata": {
        "id": "KcyhjotqMg7G"
      },
      "source": [
        "# Bifurcating the movies and tv shows from type column \n",
        "movie_rows = df.loc[df[\"type\"] == \"Movie\"]\n",
        "tv_rows = df.loc[df[\"type\"] == \"TV Show\"]"
      ],
      "execution_count": 34,
      "outputs": []
    },
    {
      "cell_type": "code",
      "metadata": {
        "id": "I5e9Wnv2NIkt"
      },
      "source": [
        "# Getting movie and tv shows count\n",
        "movies_counts = movie_rows.Year_added.value_counts()\n",
        "tv_counts = tv_rows.Year_added.value_counts()"
      ],
      "execution_count": 35,
      "outputs": []
    },
    {
      "cell_type": "code",
      "metadata": {
        "colab": {
          "base_uri": "https://localhost:8080/",
          "height": 312
        },
        "id": "uORJ8V3XNOMI",
        "outputId": "fef3cf73-97ab-4359-fbd6-de8b583c799c"
      },
      "source": [
        "# Line plot\n",
        "sns.lineplot(data=movies_counts, color=\"c\",label=\"Movies / year\")\n",
        "sns.lineplot(data=tv_counts, color=\"m\", label=\"TV Shows / year\")\n",
        "plt.xlabel('Year')\n",
        "plt.ylabel('Count')\n",
        "plt.title('Content released on Netflix yearly')"
      ],
      "execution_count": 36,
      "outputs": [
        {
          "output_type": "execute_result",
          "data": {
            "text/plain": [
              "Text(0.5, 1.0, 'Content released on Netflix yearly')"
            ]
          },
          "metadata": {},
          "execution_count": 36
        },
        {
          "output_type": "display_data",
          "data": {
            "image/png": "[encoded data removed]",
            "text/plain": [
              "<Figure size 432x288 with 1 Axes>"
            ]
          },
          "metadata": {
            "needs_background": "light"
          }
        }
      ]
    },
    {
      "cell_type": "code",
      "metadata": {
        "colab": {
          "base_uri": "https://localhost:8080/"
        },
        "id": "HyJmgzhJaTBq",
        "outputId": "e832250f-1ba0-42a5-9189-aa2a7876b7c1"
      },
      "source": [
        "# Importing the necessary libraries for NLP\n",
        "import nltk\n",
        "nltk.download('stopwords')\n",
        "nltk.download('punkt')\n",
        "from sklearn import preprocessing\n",
        "from nltk.corpus import stopwords\n",
        "from nltk.stem.snowball import SnowballStemmer\n",
        "from sklearn.feature_extraction.text import CountVectorizer, TfidfVectorizer"
      ],
      "execution_count": 37,
      "outputs": [
        {
          "output_type": "stream",
          "name": "stderr",
          "text": [
            "/usr/local/lib/python3.7/dist-packages/nltk/decorators.py:70: DeprecationWarning: `formatargspec` is deprecated since Python 3.5. Use `signature` and the `Signature` object directly\n",
            "  formatvalue=lambda value: \"\")[1:-1]\n",
            "/usr/local/lib/python3.7/dist-packages/sklearn/feature_extraction/image.py:167: DeprecationWarning: `np.int` is a deprecated alias for the builtin `int`. To silence this warning, use `int` by itself. Doing this will not modify any behavior and is safe. When replacing `np.int`, you may wish to use e.g. `np.int64` or `np.int32` to specify the precision. If you wish to review your current use, check the release note link for additional information.\n",
            "Deprecated in NumPy 1.20; for more details and guidance: https://numpy.org/devdocs/release/1.20.0-notes.html#deprecations\n",
            "  dtype=np.int):\n",
            "/usr/local/lib/python3.7/dist-packages/scipy/io/matlab/mio5.py:98: DeprecationWarning: `np.bool` is a deprecated alias for the builtin `bool`. To silence this warning, use `bool` by itself. Doing this will not modify any behavior and is safe. If you specifically wanted the numpy scalar type, use `np.bool_` here.\n",
            "Deprecated in NumPy 1.20; for more details and guidance: https://numpy.org/devdocs/release/1.20.0-notes.html#deprecations\n",
            "  from .mio5_utils import VarReader5\n"
          ]
        },
        {
          "output_type": "stream",
          "name": "stdout",
          "text": [
            "[nltk_data] Downloading package stopwords to /root/nltk_data...\n",
            "[nltk_data]   Package stopwords is already up-to-date!\n",
            "[nltk_data] Downloading package punkt to /root/nltk_data...\n",
            "[nltk_data]   Package punkt is already up-to-date!\n"
          ]
        }
      ]
    },
    {
      "cell_type": "code",
      "metadata": {
        "_cell_guid": "19f1782b-f6f9-420c-a747-289c45e62687",
        "_uuid": "c1ae99d031c1248cedd74d84699d3c1cc6bd5078",
        "collapsed": true,
        "id": "IzFU_76wHG5O"
      },
      "source": [
        "# Function for removing punctuation\n",
        "def remove_punctuation(text):\n",
        "    import string\n",
        "    # replacing the punctuations with no space, \n",
        "    # which in effect deletes the punctuation marks \n",
        "    translator = str.maketrans('', '', string.punctuation)\n",
        "    # return the text stripped of punctuation marks\n",
        "    return text.translate(translator)"
      ],
      "execution_count": 38,
      "outputs": []
    },
    {
      "cell_type": "code",
      "metadata": {
        "id": "J1eoeJO1cebF"
      },
      "source": [
        "# Removing punctuation from description column\n",
        "df['description']=df['description'].apply(remove_punctuation)"
      ],
      "execution_count": 39,
      "outputs": []
    },
    {
      "cell_type": "code",
      "metadata": {
        "id": "1VBsJF_Gd7Kk"
      },
      "source": [
        "sw = stopwords.words('english')"
      ],
      "execution_count": 40,
      "outputs": []
    },
    {
      "cell_type": "code",
      "metadata": {
        "_cell_guid": "ecf70a80-334e-42bc-a238-cd9ae39e324e",
        "_uuid": "4b1d9da7087c810c07fb77e0aa9081871b97af22",
        "collapsed": true,
        "id": "w_OrV6y3HG5R"
      },
      "source": [
        "# Function to remove stopwords\n",
        "def stopwords(text):\n",
        "    text = [word.lower() for word in text.split() if word.lower() not in sw]\n",
        "    # joining the list of words with space separator\n",
        "    return \" \".join(text)"
      ],
      "execution_count": 41,
      "outputs": []
    },
    {
      "cell_type": "code",
      "metadata": {
        "id": "AAQFYo2Vc_4T"
      },
      "source": [
        "# removing stopwords from description column\n",
        "df['description']=df['description'].apply(stopwords)"
      ],
      "execution_count": 42,
      "outputs": []
    },
    {
      "cell_type": "code",
      "metadata": {
        "colab": {
          "base_uri": "https://localhost:8080/"
        },
        "id": "DnMvMSepdOkC",
        "outputId": "96ac191c-ff8d-4527-c551-1081b41356a4"
      },
      "source": [
        "df['description'].head(10)"
      ],
      "execution_count": 43,
      "outputs": [
        {
          "output_type": "execute_result",
          "data": {
            "text/plain": [
              "0    future elite inhabit island paradise far crowd...\n",
              "1    devastating earthquake hits mexico city trappe...\n",
              "2    army recruit found dead fellow soldiers forced...\n",
              "3    postapocalyptic world ragdoll robots hide fear...\n",
              "4    brilliant group students become cardcounting e...\n",
              "5    genetics professor experiments treatment comat...\n",
              "6    awful accident couple admitted grisly hospital...\n",
              "7    one high school students attacks dedicated tea...\n",
              "8    doctor goes missing psychiatrist wife treats b...\n",
              "9    architect wife move castle slated become luxur...\n",
              "Name: description, dtype: object"
            ]
          },
          "metadata": {},
          "execution_count": 43
        }
      ]
    },
    {
      "cell_type": "code",
      "metadata": {
        "_cell_guid": "e398cb01-a8c4-4ea8-afb1-428898ad7dab",
        "_uuid": "7ecc0e3ccf65dfc9a01271e5b84a9885b79d6754",
        "collapsed": true,
        "id": "JDosAAEpHG5S"
      },
      "source": [
        "# create a count vectorizer object\n",
        "count_vectorizer = CountVectorizer()\n",
        "# fit the count vectorizer using the text data\n",
        "count_vectorizer.fit(df['description'])\n",
        "# collect the vocabulary items used in the vectorizer\n",
        "dictionary = count_vectorizer.vocabulary_.items()"
      ],
      "execution_count": 44,
      "outputs": []
    },
    {
      "cell_type": "code",
      "metadata": {
        "_cell_guid": "da669b28-e6da-4f1c-b219-0161b5c2fb8b",
        "_uuid": "5967cc037e541f621ad817e262a83e23510a116f",
        "collapsed": true,
        "id": "gEyUTh0FHG5V"
      },
      "source": [
        "# create an object of stemming function\n",
        "stemmer = SnowballStemmer(\"english\")\n",
        "\n",
        "def stemming(text):    \n",
        "    text = [stemmer.stem(word) for word in text.split()]\n",
        "    return \" \".join(text) "
      ],
      "execution_count": 45,
      "outputs": []
    },
    {
      "cell_type": "code",
      "metadata": {
        "_cell_guid": "9dfaf9e2-c77d-4f68-8b7b-aa26cda11707",
        "_uuid": "60d64a3db3e6dd388b27eac313735e722fdea6a0",
        "id": "LbEjqbUlHG5W",
        "colab": {
          "base_uri": "https://localhost:8080/"
        },
        "outputId": "82c203a5-d5a6-49e5-bc7b-e6fd0b55aa8c"
      },
      "source": [
        "# Applying stemming to the description column\n",
        "df['description'] = df['description'].apply(stemming)\n",
        "df.description.head(10)"
      ],
      "execution_count": 46,
      "outputs": [
        {
          "output_type": "execute_result",
          "data": {
            "text/plain": [
              "0    futur elit inhabit island paradis far crowd sl...\n",
              "1    devast earthquak hit mexico citi trap survivor...\n",
              "2    armi recruit found dead fellow soldier forc co...\n",
              "3    postapocalypt world ragdol robot hide fear dan...\n",
              "4    brilliant group student becom cardcount expert...\n",
              "5    genet professor experi treatment comatos siste...\n",
              "6    aw accid coupl admit grisli hospit separ must ...\n",
              "7    one high school student attack dedic teacher t...\n",
              "8    doctor goe miss psychiatrist wife treat bizarr...\n",
              "9    architect wife move castl slate becom luxuri h...\n",
              "Name: description, dtype: object"
            ]
          },
          "metadata": {},
          "execution_count": 46
        }
      ]
    },
    {
      "cell_type": "code",
      "metadata": {
        "_cell_guid": "e7cc96d8-20a4-4f8d-97d1-de69bd7981a3",
        "_uuid": "9135efbc2f7d23479d16480b4f0960a52d20cc00",
        "collapsed": true,
        "id": "5VtpB_NRHG5X"
      },
      "source": [
        "# create the object of tfid vectorizer\n",
        "tfid_vectorizer = TfidfVectorizer(\"english\")\n",
        "\n",
        "# fit the vectorizer using the text data\n",
        "tfid_vectorizer.fit(df['description'])\n",
        "\n",
        "# collect the vocabulary items used in the vectorizer\n",
        "dictionary = tfid_vectorizer.vocabulary_.items()"
      ],
      "execution_count": 47,
      "outputs": []
    },
    {
      "cell_type": "code",
      "metadata": {
        "_cell_guid": "db6ce2f5-1247-4446-90f2-6aa2ba8af168",
        "_kg_hide-input": true,
        "_uuid": "59f4ae5e8e06786fa3ebdec7ec3011645aad3544",
        "id": "2a9DfK59uYj4"
      },
      "source": [
        "# Define helper functions\n",
        "def get_top_n_words(n_top_words, count_vectorizer, text_data):\n",
        "    vectorized_description = count_vectorizer.fit_transform(text_data.values)\n",
        "    vectorized_total = np.sum(vectorized_description, axis=0)\n",
        "    word_indices = np.flip(np.argsort(vectorized_total)[0,:], 1)\n",
        "    word_values = np.flip(np.sort(vectorized_total)[0,:],1)\n",
        "    \n",
        "    word_vectors = np.zeros((n_top_words, vectorized_description.shape[1]))\n",
        "    for i in range(n_top_words):\n",
        "        word_vectors[i,word_indices[0,i]] = 1\n",
        "\n",
        "    words = [word[0].encode('ascii').decode('utf-8') for \n",
        "             word in count_vectorizer.inverse_transform(word_vectors)]\n",
        "\n",
        "    return (words, word_values[0,:n_top_words].tolist()[0])"
      ],
      "execution_count": 48,
      "outputs": []
    },
    {
      "cell_type": "code",
      "metadata": {
        "_cell_guid": "a2701525-298e-4943-8d3e-adad5d0d629d",
        "_uuid": "142e18023411d5c61cbe59a3c08c78c58993cdcc",
        "id": "TsPJDzyyuYj5",
        "colab": {
          "base_uri": "https://localhost:8080/",
          "height": 512
        },
        "outputId": "9b7022e0-f3d9-4e2d-812b-d4e38bd34252"
      },
      "source": [
        "# Initialising count vectoriser object\n",
        "count_vectorizer = CountVectorizer(stop_words='english')\n",
        "words, word_values = get_top_n_words(n_top_words=15,\n",
        "                                     count_vectorizer=count_vectorizer, \n",
        "                                     text_data=df.description)\n",
        "\n",
        "fig, ax = plt.subplots(figsize=(13,7))\n",
        "ax.bar(range(len(words)), word_values)\n",
        "ax.set_xticks(range(len(words)))\n",
        "ax.set_xticklabels(words, rotation='vertical')\n",
        "ax.set_title('Top words in description dataset (excluding stop words)')\n",
        "ax.set_xlabel('Word')\n",
        "ax.set_ylabel('Number of occurences')\n",
        "plt.show()"
      ],
      "execution_count": 49,
      "outputs": [
        {
          "output_type": "display_data",
          "data": {
            "image/png": "[encoded data removed]",
            "text/plain": [
              "<Figure size 936x504 with 1 Axes>"
            ]
          },
          "metadata": {
            "needs_background": "light"
          }
        }
      ]
    },
    {
      "cell_type": "code",
      "metadata": {
        "colab": {
          "base_uri": "https://localhost:8080/"
        },
        "id": "tNN3V4LGe9tz",
        "outputId": "fb7129f3-226b-4497-b994-3bfe2387a4cd"
      },
      "source": [
        "# getting the document term matrix\n",
        "description_count_vectorizer = CountVectorizer(stop_words='english', max_features=4000)\n",
        "description_text = df.description\n",
        "\n",
        "print('Description before vectorization: {}'.format(description_text[123]))\n",
        "\n",
        "document_term_matrix = description_count_vectorizer.fit_transform(description_text)\n",
        "\n",
        "print('Description after vectorization: \\n{}'.format(document_term_matrix[123]))"
      ],
      "execution_count": 50,
      "outputs": [
        {
          "output_type": "stream",
          "name": "stdout",
          "text": [
            "Description before vectorization: five friend embark mission climb highest peak java overcom obstacl way discov true mean friendship\n",
            "Description after vectorization: \n",
            "  (0, 1416)\t1\n",
            "  (0, 3709)\t1\n",
            "  (0, 1417)\t1\n",
            "  (0, 2464)\t1\n",
            "  (0, 3898)\t1\n",
            "  (0, 1099)\t1\n",
            "  (0, 2304)\t1\n",
            "  (0, 639)\t1\n",
            "  (0, 2594)\t1\n",
            "  (0, 2537)\t1\n",
            "  (0, 954)\t1\n",
            "  (0, 2224)\t1\n"
          ]
        }
      ]
    },
    {
      "cell_type": "code",
      "metadata": {
        "_cell_guid": "c19bf4af-f399-4493-8fa5-d55e54e4f681",
        "_uuid": "0671476e00f484368beb747eb1529bfd680aa7fa",
        "id": "9iLe_nbRuYkE",
        "colab": {
          "base_uri": "https://localhost:8080/"
        },
        "outputId": "be7513d7-f5b9-45ae-ab79-dec7d32fb614"
      },
      "source": [
        "# Parameters tuning using Grid Search\n",
        "from sklearn.model_selection import GridSearchCV\n",
        "from sklearn.decomposition import LatentDirichletAllocation\n",
        "grid_params = {'n_components' : list(range(6,8))}\n",
        "\n",
        "# LDA model\n",
        "lda = LatentDirichletAllocation(batch_size=1000,max_iter=20,doc_topic_prior=0.5, topic_word_prior=0.5,random_state=15)\n",
        "lda_model = GridSearchCV(lda,param_grid=grid_params,cv=3)\n",
        "lda_model.fit(document_term_matrix)\n",
        "\n",
        "# Best LDA model\n",
        "best_lda_model = lda_model.best_estimator_\n",
        "\n",
        "\n",
        "print(\"Best LDA model's params\" , lda_model.best_params_)\n",
        "print(\"Best log likelihood Score for the LDA model\",lda_model.best_score_)\n",
        "print(\"LDA model Perplexity on train data\", best_lda_model.perplexity(document_term_matrix))"
      ],
      "execution_count": 51,
      "outputs": [
        {
          "output_type": "stream",
          "name": "stderr",
          "text": [
            "/usr/local/lib/python3.7/dist-packages/sklearn/model_selection/_split.py:440: DeprecationWarning: `np.int` is a deprecated alias for the builtin `int`. To silence this warning, use `int` by itself. Doing this will not modify any behavior and is safe. When replacing `np.int`, you may wish to use e.g. `np.int64` or `np.int32` to specify the precision. If you wish to review your current use, check the release note link for additional information.\n",
            "Deprecated in NumPy 1.20; for more details and guidance: https://numpy.org/devdocs/release/1.20.0-notes.html#deprecations\n",
            "  fold_sizes = np.full(n_splits, n_samples // n_splits, dtype=np.int)\n",
            "/usr/local/lib/python3.7/dist-packages/sklearn/model_selection/_split.py:93: DeprecationWarning: `np.bool` is a deprecated alias for the builtin `bool`. To silence this warning, use `bool` by itself. Doing this will not modify any behavior and is safe. If you specifically wanted the numpy scalar type, use `np.bool_` here.\n",
            "Deprecated in NumPy 1.20; for more details and guidance: https://numpy.org/devdocs/release/1.20.0-notes.html#deprecations\n",
            "  test_mask = np.zeros(_num_samples(X), dtype=np.bool)\n",
            "/usr/local/lib/python3.7/dist-packages/sklearn/model_selection/_split.py:93: DeprecationWarning: `np.bool` is a deprecated alias for the builtin `bool`. To silence this warning, use `bool` by itself. Doing this will not modify any behavior and is safe. If you specifically wanted the numpy scalar type, use `np.bool_` here.\n",
            "Deprecated in NumPy 1.20; for more details and guidance: https://numpy.org/devdocs/release/1.20.0-notes.html#deprecations\n",
            "  test_mask = np.zeros(_num_samples(X), dtype=np.bool)\n",
            "/usr/local/lib/python3.7/dist-packages/sklearn/model_selection/_split.py:93: DeprecationWarning: `np.bool` is a deprecated alias for the builtin `bool`. To silence this warning, use `bool` by itself. Doing this will not modify any behavior and is safe. If you specifically wanted the numpy scalar type, use `np.bool_` here.\n",
            "Deprecated in NumPy 1.20; for more details and guidance: https://numpy.org/devdocs/release/1.20.0-notes.html#deprecations\n",
            "  test_mask = np.zeros(_num_samples(X), dtype=np.bool)\n",
            "/usr/local/lib/python3.7/dist-packages/sklearn/model_selection/_search.py:818: DeprecationWarning: `np.int` is a deprecated alias for the builtin `int`. To silence this warning, use `int` by itself. Doing this will not modify any behavior and is safe. When replacing `np.int`, you may wish to use e.g. `np.int64` or `np.int32` to specify the precision. If you wish to review your current use, check the release note link for additional information.\n",
            "Deprecated in NumPy 1.20; for more details and guidance: https://numpy.org/devdocs/release/1.20.0-notes.html#deprecations\n",
            "  dtype=np.int)\n"
          ]
        },
        {
          "output_type": "stream",
          "name": "stdout",
          "text": [
            "Best LDA model's params {'n_components': 6}\n",
            "Best log likelihood Score for the LDA model -253836.02384182703\n",
            "LDA model Perplexity on train data 2420.7262111022806\n"
          ]
        }
      ]
    },
    {
      "cell_type": "code",
      "metadata": {
        "colab": {
          "base_uri": "https://localhost:8080/"
        },
        "id": "LWQEmuPOkyEi",
        "outputId": "f0477968-b1bb-47d9-ad70-fbca36aa588a"
      },
      "source": [
        "!pip install pyLDAvis\n"
      ],
      "execution_count": 52,
      "outputs": [
        {
          "output_type": "stream",
          "name": "stdout",
          "text": [
            "Requirement already satisfied: pyLDAvis in /usr/local/lib/python3.7/dist-packages (3.3.1)\n",
            "Requirement already satisfied: numexpr in /usr/local/lib/python3.7/dist-packages (from pyLDAvis) (2.7.3)\n",
            "Requirement already satisfied: gensim in /usr/local/lib/python3.7/dist-packages (from pyLDAvis) (3.6.0)\n",
            "Requirement already satisfied: joblib in /usr/local/lib/python3.7/dist-packages (from pyLDAvis) (1.0.1)\n",
            "Requirement already satisfied: scikit-learn in /usr/local/lib/python3.7/dist-packages (from pyLDAvis) (0.22.2.post1)\n",
            "Requirement already satisfied: funcy in /usr/local/lib/python3.7/dist-packages (from pyLDAvis) (1.16)\n",
            "Requirement already satisfied: numpy>=1.20.0 in /usr/local/lib/python3.7/dist-packages (from pyLDAvis) (1.21.2)\n",
            "Requirement already satisfied: scipy in /usr/local/lib/python3.7/dist-packages (from pyLDAvis) (1.4.1)\n",
            "Requirement already satisfied: jinja2 in /usr/local/lib/python3.7/dist-packages (from pyLDAvis) (2.11.3)\n",
            "Requirement already satisfied: pandas>=1.2.0 in /usr/local/lib/python3.7/dist-packages (from pyLDAvis) (1.3.3)\n",
            "Requirement already satisfied: sklearn in /usr/local/lib/python3.7/dist-packages (from pyLDAvis) (0.0)\n",
            "Requirement already satisfied: future in /usr/local/lib/python3.7/dist-packages (from pyLDAvis) (0.16.0)\n",
            "Requirement already satisfied: setuptools in /usr/local/lib/python3.7/dist-packages (from pyLDAvis) (57.4.0)\n",
            "Requirement already satisfied: python-dateutil>=2.7.3 in /usr/local/lib/python3.7/dist-packages (from pandas>=1.2.0->pyLDAvis) (2.8.2)\n",
            "Requirement already satisfied: pytz>=2017.3 in /usr/local/lib/python3.7/dist-packages (from pandas>=1.2.0->pyLDAvis) (2018.9)\n",
            "Requirement already satisfied: six>=1.5 in /usr/local/lib/python3.7/dist-packages (from python-dateutil>=2.7.3->pandas>=1.2.0->pyLDAvis) (1.15.0)\n",
            "Requirement already satisfied: smart-open>=1.2.1 in /usr/local/lib/python3.7/dist-packages (from gensim->pyLDAvis) (5.2.1)\n",
            "Requirement already satisfied: MarkupSafe>=0.23 in /usr/local/lib/python3.7/dist-packages (from jinja2->pyLDAvis) (2.0.1)\n"
          ]
        }
      ]
    },
    {
      "cell_type": "code",
      "metadata": {
        "id": "Bajb2T8lo1a5"
      },
      "source": [
        "import pyLDAvis.sklearn\n",
        "from sklearn.decomposition import TruncatedSVD\n",
        "from sklearn.decomposition import LatentDirichletAllocation\n",
        "from sklearn.manifold import TSNE\n",
        "\n",
        "\n",
        "pyLDAvis.enable_notebook()"
      ],
      "execution_count": 53,
      "outputs": []
    },
    {
      "cell_type": "code",
      "metadata": {
        "colab": {
          "base_uri": "https://localhost:8080/",
          "height": 1000
        },
        "id": "RZQBvxM1o4JJ",
        "outputId": "0d1a85f5-368a-4dff-c1e6-53854abf9127"
      },
      "source": [
        "# visualising the clusters\n",
        "lda_panel = pyLDAvis.sklearn.prepare(best_lda_model,document_term_matrix,description_count_vectorizer,mds='tsne')\n",
        "lda_panel"
      ],
      "execution_count": 54,
      "outputs": [
        {
          "output_type": "stream",
          "name": "stderr",
          "text": [
            "/usr/local/lib/python3.7/dist-packages/pyLDAvis/_prepare.py:247: FutureWarning: In a future version of pandas all arguments of DataFrame.drop except for the argument 'labels' will be keyword-only\n",
            "  by='saliency', ascending=False).head(R).drop('saliency', 1)\n",
            "/usr/local/lib/python3.7/dist-packages/sklearn/metrics/pairwise.py:56: DeprecationWarning: `np.float` is a deprecated alias for the builtin `float`. To silence this warning, use `float` by itself. Doing this will not modify any behavior and is safe. If you specifically wanted the numpy scalar type, use `np.float64` here.\n",
            "Deprecated in NumPy 1.20; for more details and guidance: https://numpy.org/devdocs/release/1.20.0-notes.html#deprecations\n",
            "  dtype = np.float\n",
            "/usr/local/lib/python3.7/dist-packages/sklearn/manifold/_t_sne.py:348: DeprecationWarning: `np.float` is a deprecated alias for the builtin `float`. To silence this warning, use `float` by itself. Doing this will not modify any behavior and is safe. If you specifically wanted the numpy scalar type, use `np.float64` here.\n",
            "Deprecated in NumPy 1.20; for more details and guidance: https://numpy.org/devdocs/release/1.20.0-notes.html#deprecations\n",
            "  error = np.finfo(np.float).max\n",
            "/usr/local/lib/python3.7/dist-packages/sklearn/manifold/_t_sne.py:349: DeprecationWarning: `np.float` is a deprecated alias for the builtin `float`. To silence this warning, use `float` by itself. Doing this will not modify any behavior and is safe. If you specifically wanted the numpy scalar type, use `np.float64` here.\n",
            "Deprecated in NumPy 1.20; for more details and guidance: https://numpy.org/devdocs/release/1.20.0-notes.html#deprecations\n",
            "  best_error = np.finfo(np.float).max\n",
            "/usr/local/lib/python3.7/dist-packages/sklearn/manifold/_t_sne.py:348: DeprecationWarning: `np.float` is a deprecated alias for the builtin `float`. To silence this warning, use `float` by itself. Doing this will not modify any behavior and is safe. If you specifically wanted the numpy scalar type, use `np.float64` here.\n",
            "Deprecated in NumPy 1.20; for more details and guidance: https://numpy.org/devdocs/release/1.20.0-notes.html#deprecations\n",
            "  error = np.finfo(np.float).max\n",
            "/usr/local/lib/python3.7/dist-packages/sklearn/manifold/_t_sne.py:349: DeprecationWarning: `np.float` is a deprecated alias for the builtin `float`. To silence this warning, use `float` by itself. Doing this will not modify any behavior and is safe. If you specifically wanted the numpy scalar type, use `np.float64` here.\n",
            "Deprecated in NumPy 1.20; for more details and guidance: https://numpy.org/devdocs/release/1.20.0-notes.html#deprecations\n",
            "  best_error = np.finfo(np.float).max\n"
          ]
        },
        {
          "output_type": "execute_result",
          "data": {
            "text/html": [
              "\n",
              "<link rel=\"stylesheet\" type=\"text/css\" href=\"https://cdn.jsdelivr.net/gh/bmabey/pyLDAvis@3.3.1/pyLDAvis/js/ldavis.v1.0.0.css\">\n",
              "\n",
              "\n",
              "<div id=\"ldavis_el4141399747912919846547682124\"></div>\n",
              "<script type=\"text/javascript\">\n",
              "\n",
              "var ldavis_el4141399747912919846547682124_data = {\"mdsDat\": {\"x\": [1.4650187492370605, 54.85479736328125, 32.212928771972656, 5.111096382141113, 26.350170135498047, 38.10981750488281], \"y\": [-47.625064849853516, -36.4767951965332, -61.44457244873047, -14.110331535339355, -33.37470245361328, -7.222781181335449], \"topics\": [1, 2, 3, 4, 5, 6], \"cluster\": [1, 1, 1, 1, 1, 1], \"Freq\": [17.743534924953124, 17.310397332462564, 17.253093762344687, 16.84332950765591, 15.640321717745586, 15.209322754838132]}, \"tinfo\": {\"Term\": [\"friend\", \"famili\", \"young\", \"man\", \"woman\", \"stori\", \"school\", \"life\", \"new\", \"father\", \"world\", \"fall\", \"high\", \"student\", \"documentari\", \"forc\", \"love\", \"power\", \"seri\", \"live\", \"son\", \"special\", \"true\", \"save\", \"adventur\", \"mother\", \"star\", \"fight\", \"year\", \"investig\", \"investig\", \"polic\", \"evil\", \"detect\", \"use\", \"town\", \"killer\", \"earth\", \"corrupt\", \"agent\", \"demon\", \"power\", \"attack\", \"small\", \"govern\", \"miss\", \"armi\", \"track\", \"alien\", \"save\", \"monster\", \"forc\", \"disappear\", \"control\", \"supernatur\", \"ranger\", \"space\", \"serial\", \"fight\", \"solv\", \"cop\", \"protect\", \"offic\", \"crime\", \"battl\", \"case\", \"citi\", \"human\", \"mysteri\", \"help\", \"murder\", \"team\", \"join\", \"crimin\", \"secret\", \"new\", \"world\", \"special\", \"star\", \"standup\", \"comedi\", \"anim\", \"stage\", \"competit\", \"perform\", \"featur\", \"talent\", \"player\", \"war\", \"member\", \"tour\", \"soccer\", \"compet\", \"captur\", \"director\", \"icon\", \"america\", \"ii\", \"film\", \"video\", \"humor\", \"movi\", \"sport\", \"host\", \"origin\", \"athlet\", \"pop\", \"comedian\", \"offer\", \"danc\", \"music\", \"comic\", \"world\", \"seri\", \"crew\", \"hit\", \"documentari\", \"play\", \"look\", \"team\", \"american\", \"fall\", \"son\", \"mother\", \"father\", \"soon\", \"path\", \"lose\", \"haunt\", \"reveng\", \"kill\", \"accid\", \"seek\", \"prove\", \"car\", \"kidnap\", \"scheme\", \"driver\", \"wrong\", \"rescu\", \"cross\", \"businessman\", \"care\", \"lover\", \"lawyer\", \"widow\", \"gangster\", \"ghost\", \"woman\", \"die\", \"man\", \"daughter\", \"leav\", \"husband\", \"quest\", \"wife\", \"becom\", \"memori\", \"young\", \"marri\", \"villag\", \"love\", \"death\", \"set\", \"tri\", \"help\", \"local\", \"murder\", \"old\", \"drug\", \"coupl\", \"marriag\", \"run\", \"troubl\", \"busi\", \"bond\", \"hope\", \"unexpect\", \"away\", \"christma\", \"boyfriend\", \"stranger\", \"unlik\", \"compani\", \"divorc\", \"worker\", \"suicid\", \"reconnect\", \"form\", \"risk\", \"chao\", \"arrang\", \"bachelor\", \"resort\", \"adopt\", \"choos\", \"despit\", \"hot\", \"hong\", \"kong\", \"reunit\", \"famili\", \"start\", \"ruin\", \"sister\", \"shes\", \"discov\", \"parent\", \"confront\", \"home\", \"past\", \"threaten\", \"determin\", \"young\", \"secret\", \"begin\", \"come\", \"women\", \"work\", \"relationship\", \"turn\", \"life\", \"brother\", \"way\", \"dream\", \"meet\", \"love\", \"live\", \"new\", \"make\", \"struggl\", \"school\", \"high\", \"differ\", \"colleg\", \"student\", \"friend\", \"adventur\", \"pal\", \"best\", \"want\", \"bad\", \"thing\", \"summer\", \"crisi\", \"class\", \"cat\", \"attend\", \"onlin\", \"camp\", \"misfit\", \"lesson\", \"alway\", \"perfect\", \"teacher\", \"quirki\", \"shi\", \"cope\", \"senior\", \"schooler\", \"addict\", \"media\", \"parti\", \"fun\", \"littl\", \"spend\", \"teen\", \"good\", \"friendship\", \"night\", \"new\", \"day\", \"girl\", \"togeth\", \"countri\", \"kid\", \"wild\", \"learn\", \"make\", \"tri\", \"decid\", \"magic\", \"live\", \"life\", \"boy\", \"world\", \"group\", \"hes\", \"turn\", \"stori\", \"true\", \"base\", \"event\", \"polit\", \"interview\", \"person\", \"childhood\", \"examin\", \"tale\", \"drama\", \"tell\", \"filmmak\", \"question\", \"decad\", \"impact\", \"food\", \"book\", \"dramat\", \"sexual\", \"later\", \"activist\", \"passion\", \"earli\", \"convict\", \"novel\", \"independ\", \"unfold\", \"educ\", \"cancer\", \"apart\", \"explor\", \"inspir\", \"issu\", \"reveal\", \"peopl\", \"cultur\", \"year\", \"journey\", \"share\", \"life\", \"follow\", \"documentari\", \"live\", \"real\", \"seri\", \"love\", \"struggl\", \"india\", \"histori\", \"famili\", \"chang\"], \"Freq\": [498.0, 551.0, 579.0, 419.0, 384.0, 267.0, 270.0, 630.0, 537.0, 254.0, 440.0, 208.0, 194.0, 201.0, 290.0, 217.0, 464.0, 205.0, 317.0, 409.0, 179.0, 175.0, 162.0, 194.0, 166.0, 173.0, 168.0, 177.0, 249.0, 151.0, 149.11958608629902, 116.5720250271547, 105.11021912599175, 99.92005606123226, 121.26853453688186, 138.20097728945456, 86.5471667895949, 83.00460754384027, 73.22342105631655, 100.1701539256187, 67.85077073180683, 197.22201290956485, 57.39031852392131, 64.91490271943468, 59.788100610346234, 62.20578194071517, 46.929576806398735, 56.911758775092544, 50.998552121818626, 183.8690523275248, 51.766921511573294, 205.8820855939234, 44.88937841236218, 48.20943166186823, 40.71175278037146, 34.73837148204707, 41.344588397259415, 36.37329485441676, 166.07280696179626, 61.80706313446458, 114.93477357277732, 75.69888373838496, 82.78350251228983, 137.29317895942373, 127.81169419598235, 71.21602926251431, 134.18863318105818, 101.08250614702197, 152.60313654340777, 175.16490739011718, 141.81639279657605, 125.33720131847707, 91.14256458487793, 79.28728173444733, 98.59430647182191, 117.37383008212406, 80.70984210044766, 172.58539331588182, 165.63277234957917, 129.02939012950245, 143.1529864856133, 117.84473489091405, 79.82557663865596, 76.35168918548314, 75.34463489446925, 63.17651256662928, 65.36379116739644, 56.13664491434699, 148.9090598807296, 64.28206179483827, 49.20801131783178, 47.430117721905724, 48.257729764036945, 63.95770353395264, 52.11264758909593, 56.21421882568123, 56.947353797994644, 41.208009525728635, 154.62330467831265, 46.03623199496626, 36.954342714771144, 37.76504948632647, 41.80339698643503, 78.14347544669077, 36.506227019305065, 30.81177296202729, 32.423492620342216, 115.86594796209953, 55.783774225552264, 46.953660364590526, 122.8691323545612, 95.21522571413023, 266.44518847777834, 178.97078942679033, 64.03921725251915, 66.44815702898165, 118.06601531329031, 65.12827304692027, 73.3281228803101, 83.67376060387434, 58.82648576296792, 205.96984126562086, 177.04418559824526, 169.27897686559422, 246.88281262984987, 109.53650798641188, 75.48230306841162, 69.2848442123898, 59.01383347919216, 70.78503316093355, 93.40092417123829, 54.56933329786869, 107.32966486039365, 56.11229990153578, 56.949153493519, 71.05386690003698, 55.63594913314202, 43.05432001298635, 46.10775410071996, 74.05859492689041, 40.94229309203419, 33.5341538812709, 43.322545907820334, 43.99417400709644, 44.62056208768517, 44.61393944831423, 34.879208643687946, 42.01156007430426, 351.7140005444538, 55.4219868112623, 381.56022018101197, 157.37237505542382, 102.87837443290405, 95.42385536793752, 60.297641830181625, 118.92870289922638, 214.03938438610933, 49.81689152147297, 324.41484821472164, 91.89022312324099, 79.25819121412988, 204.9730946593469, 101.87741890158713, 103.13704582805725, 104.21466393184512, 100.69509822420608, 61.62573194333348, 76.72460392942295, 64.26445901140717, 63.88144430509918, 133.0991122286859, 106.63314072808988, 114.26242272373996, 85.36899419872525, 85.28429046299854, 85.2717693299212, 93.72200481552046, 76.52013763812171, 54.38395179983273, 68.44707199569925, 41.39947000025868, 59.521761607506406, 47.07422679942373, 52.402182521347996, 33.55230786179099, 35.8536325219864, 32.48425169764531, 29.198391596857096, 72.107014645769, 36.4639517744085, 29.016146413095562, 23.10477783097602, 24.655224276494277, 22.253998309846754, 25.345962664254326, 22.957820999068396, 30.028269416749275, 25.908775159812564, 21.954746789740028, 22.7172996445666, 46.26396108449098, 449.07038967914434, 91.76724804593884, 29.45043756621748, 86.62346685867702, 55.20528214041116, 116.37110264844046, 70.30766790193658, 38.887824378267766, 150.11965870419718, 105.55036215671927, 63.79858897335441, 61.81916496178054, 252.7144899705289, 118.76872515711925, 94.1885718728298, 93.55164526873753, 85.01161185590033, 97.20483676222021, 81.15395102592768, 106.0294496242753, 172.1339469150607, 87.10991756702201, 82.66582499135595, 76.08880109628312, 82.04208038415956, 104.81569043948002, 91.8579678451009, 92.88805718839531, 79.5426045204347, 78.15701494201817, 268.1227678963631, 191.4699164855703, 115.30496947325278, 104.5401081243675, 195.04099539191174, 482.02067872568864, 160.9225886170282, 74.74225186917434, 128.8634468078552, 62.10095336255609, 37.54732122458887, 70.90826729684626, 37.507737341633096, 38.25663717749739, 33.9091258895921, 32.10936904102642, 30.407166763096633, 33.61830563104612, 33.59483397676015, 25.827146301756706, 34.64968350657836, 24.072064263999565, 25.650758245102534, 53.56407594775237, 24.72791047989408, 22.19500660703807, 23.73327715996353, 18.943012713241156, 19.725461873528705, 25.111718055495356, 35.208960508140166, 56.574620880471514, 56.77128889965857, 52.4504032009268, 36.92096643783375, 157.9758643349947, 46.87929493539164, 62.585965132324745, 68.14597488604872, 319.2386500190745, 97.04187947991657, 140.38837357589463, 82.05512942892032, 60.73332268566853, 69.46826611878593, 55.61732165425019, 112.33480561070517, 118.62464544088188, 123.86225579704504, 57.80949185406918, 70.11794148534159, 136.48691300090456, 112.5473750765795, 73.04190482837292, 91.75180845047853, 73.9686060475763, 61.522804051017815, 62.760597565381914, 265.41068426738343, 159.25144890823768, 112.31140168948001, 99.27011601319332, 106.95633132694361, 64.10465595410372, 132.46217061500764, 81.17235849723798, 61.31179516898456, 81.67557408109423, 106.84989042246488, 52.42888300522726, 58.286721188337964, 50.42195792718075, 48.65896761958274, 38.33422375028667, 42.35547557537283, 38.93777764605467, 36.40963206151906, 42.10891815753391, 33.74907011919785, 33.686220278329834, 50.830592746702855, 28.551969672708672, 31.604589806906308, 24.13265549133832, 24.83482500694386, 23.10728543682871, 21.498373709575198, 27.77839811113822, 54.70864832435346, 142.04001916027693, 71.84235029305046, 32.210662528717215, 66.03975307406347, 78.61978535930265, 82.75809438095833, 173.12762459400426, 98.08508502573675, 90.97991935101695, 331.66148882548214, 139.31583793998834, 171.01874500118475, 176.34592626175134, 57.671884163679884, 126.41785292078102, 147.87568569063274, 87.70095044856244, 61.434220074678336, 64.8222651780174, 94.83695447137484, 62.95481787371803], \"Total\": [498.0, 551.0, 579.0, 419.0, 384.0, 267.0, 270.0, 630.0, 537.0, 254.0, 440.0, 208.0, 194.0, 201.0, 290.0, 217.0, 464.0, 205.0, 317.0, 409.0, 179.0, 175.0, 162.0, 194.0, 166.0, 173.0, 168.0, 177.0, 249.0, 151.0, 151.73134929734596, 119.09203715292685, 107.62451106905903, 102.33157972087399, 124.386201443558, 142.02973155767893, 89.10002808399848, 85.57102544229964, 75.86834516567667, 104.08583721795075, 70.5760143286338, 205.59202174899042, 59.9892873938144, 67.92921261668616, 62.6361813993955, 65.28144135731209, 49.40332214036561, 59.990032118180544, 53.816074253316316, 194.06272923158807, 54.70064976177141, 217.86992233791372, 47.639642039221556, 51.16943412757822, 43.22927875417938, 37.05350884649391, 44.11231028388875, 38.81831999061971, 177.30075687328545, 66.18130791207282, 125.25415704043117, 82.02458819243398, 91.73689834225617, 159.78590656351554, 149.8363195190665, 80.33859167121184, 167.88378443012746, 123.52081371860834, 213.41238220568948, 296.13670113372757, 229.31151235109354, 211.14660282216906, 131.60496011288447, 104.0604771526543, 221.25849606626318, 537.2544531710505, 440.9400562072819, 175.25115299498285, 168.2412455466589, 131.4426469336167, 146.34801150563425, 120.93662059408615, 82.38103559832673, 78.87572311929357, 78.00197546530906, 65.73584896514086, 68.36580430924838, 58.72535372944729, 156.00555738636388, 67.49318457432035, 51.71601347873754, 49.96366716868305, 50.840421320632935, 67.49498874775078, 55.22852144132378, 59.616089300494984, 60.48448590635533, 43.83290812647818, 164.8585671773147, 49.092426251995285, 39.45020937657284, 40.326904052960366, 44.71315081132589, 84.18410974648494, 39.454620105514124, 33.31747780129569, 35.072389677655714, 125.42283893488705, 60.49178051944186, 50.86013724844941, 136.8795061587236, 106.16742014250018, 440.9400562072819, 317.50356089264636, 81.58460124922661, 93.24853399557598, 290.982047301153, 95.05731808295609, 128.23866103325577, 211.14660282216906, 100.42272140540729, 208.7262663266855, 179.6636060298256, 173.50029435387168, 254.5220944592076, 113.61589800180207, 78.39007761377354, 72.22458982430096, 61.65550558140995, 73.98539138026015, 97.76617436122925, 57.252574213987025, 112.74954492317657, 59.01356762492361, 59.8950326725309, 74.86788201351094, 59.0135761212935, 45.802101207758845, 49.32786513896635, 79.2639673960608, 44.048445367291606, 36.11703624836571, 46.68516126909033, 47.575146126551765, 48.448759385981525, 48.44654292617871, 37.880702916076466, 45.80664844982199, 384.867605438913, 60.80412984219331, 419.2138894039702, 176.15379827619668, 119.92517270798997, 110.97647686713329, 68.72807620192401, 151.57190432242365, 319.8515343460962, 55.503078724020725, 579.5646964684571, 125.9547765402539, 104.98754683968195, 464.0335849368225, 168.51733369132256, 213.12402502524162, 262.8754554644954, 296.13670113372757, 80.94806918964291, 229.31151235109354, 109.56390845549706, 113.65196557711685, 135.6738434689011, 109.24576176890884, 117.17524456712967, 88.10326254483518, 88.10319709861841, 88.1040989427864, 96.91245053988168, 80.18501852499601, 57.27017376667007, 72.25463486179893, 44.05610807944151, 63.43660695270681, 50.223760540041866, 56.38076950732818, 36.127316954577054, 38.770244044290244, 35.24629653355211, 31.722627472887467, 78.40683895839516, 39.65514111426426, 31.722701251692282, 25.555040691441977, 27.31792445264525, 24.674381277872133, 28.19862776589391, 25.555733957231542, 33.48615874000549, 29.079909029618207, 24.674501654161155, 25.5556881204579, 52.90580669861509, 551.595606034406, 109.36838810875518, 33.49955067249294, 112.76399611459037, 68.72203801204812, 165.69076062269676, 94.45067488620955, 46.70497941584752, 247.03575772530863, 160.3675201267709, 86.41002286709309, 83.63291428353948, 579.5646964684571, 221.25849606626318, 159.63702651612888, 158.88653227387175, 146.65100557703155, 188.02749381865652, 138.87621330296827, 232.37823171226353, 630.0519129257608, 167.50472508545238, 167.99286341861782, 146.64229392268663, 190.08082560033026, 464.0335849368225, 409.3475993082143, 537.2544531710505, 225.71880220813392, 198.3078905416666, 270.5486552874082, 194.0045697937474, 118.34866098377745, 107.66507195254736, 201.08953606811409, 498.25830505093955, 166.37715641894656, 77.40852500054926, 136.08054780241994, 65.82737137111747, 40.02887151932203, 75.60709009881036, 40.028433467753075, 40.91796532258602, 36.46850115308335, 34.687092314353386, 32.90869629143954, 36.46545862810211, 36.4652637695583, 28.45706292593844, 38.24869760088571, 26.677717106973073, 28.454981851781607, 59.59628516318398, 27.564189724937393, 24.899052017533133, 26.676774156308547, 21.339314822412852, 22.227953162181034, 28.451778676701856, 40.009188049184914, 64.917458385461, 66.6124314089848, 61.33252713343782, 42.69257989358271, 211.3022414665839, 55.99010820486659, 78.17645487669624, 87.04999396503744, 537.2544531710505, 133.2047061508926, 224.30951356395337, 116.24704777999021, 80.71929052650833, 96.73249245540009, 71.890622207091, 200.29140302952513, 225.71880220813392, 262.8754554644954, 80.80706536167942, 117.07625288779563, 409.3475993082143, 630.0519129257608, 172.56182236224538, 440.9400562072819, 210.40199387777434, 127.48014952586578, 232.37823171226353, 267.9539062855155, 162.00827760659297, 114.82393197393073, 102.35412586354934, 110.36134272375593, 66.74522571404789, 137.9270364643558, 84.54710737398406, 64.07264917864336, 85.43137809717211, 112.1249694987533, 55.17185706496894, 61.399663597579924, 53.38956703842391, 51.607998042130184, 40.92818943453299, 45.37359277197619, 41.814905823765805, 39.146199076209456, 45.37393623610252, 36.47611078802772, 36.475045797169294, 55.17119148959724, 31.135370080732855, 34.69158880102725, 26.68491505764014, 27.573121302630803, 25.79268917011505, 24.01412041706017, 31.128100840020224, 62.24529005555911, 169.61886831078428, 86.15610590897738, 36.45978898988029, 81.67170969784885, 99.5160290878757, 105.78674148217314, 249.36078099680327, 130.51799404641207, 122.37961871184494, 630.0519129257608, 216.14698055626462, 290.982047301153, 409.3475993082143, 75.51058625367135, 317.50356089264636, 464.0335849368225, 198.3078905416666, 88.74303704156803, 110.56606006709089, 551.595606034406, 119.18847262654738], \"Category\": [\"Default\", \"Default\", \"Default\", \"Default\", \"Default\", \"Default\", \"Default\", \"Default\", \"Default\", \"Default\", \"Default\", \"Default\", \"Default\", \"Default\", \"Default\", \"Default\", \"Default\", \"Default\", \"Default\", \"Default\", \"Default\", \"Default\", \"Default\", \"Default\", \"Default\", \"Default\", \"Default\", \"Default\", \"Default\", \"Default\", \"Topic1\", \"Topic1\", \"Topic1\", \"Topic1\", \"Topic1\", \"Topic1\", \"Topic1\", \"Topic1\", \"Topic1\", \"Topic1\", \"Topic1\", \"Topic1\", \"Topic1\", \"Topic1\", \"Topic1\", \"Topic1\", \"Topic1\", \"Topic1\", \"Topic1\", \"Topic1\", \"Topic1\", \"Topic1\", \"Topic1\", \"Topic1\", \"Topic1\", \"Topic1\", \"Topic1\", \"Topic1\", \"Topic1\", \"Topic1\", \"Topic1\", \"Topic1\", \"Topic1\", \"Topic1\", \"Topic1\", \"Topic1\", \"Topic1\", \"Topic1\", \"Topic1\", \"Topic1\", \"Topic1\", \"Topic1\", \"Topic1\", \"Topic1\", \"Topic1\", \"Topic1\", \"Topic1\", \"Topic2\", \"Topic2\", \"Topic2\", \"Topic2\", \"Topic2\", \"Topic2\", \"Topic2\", \"Topic2\", \"Topic2\", \"Topic2\", \"Topic2\", \"Topic2\", \"Topic2\", \"Topic2\", \"Topic2\", \"Topic2\", \"Topic2\", \"Topic2\", \"Topic2\", \"Topic2\", \"Topic2\", \"Topic2\", \"Topic2\", \"Topic2\", \"Topic2\", \"Topic2\", \"Topic2\", \"Topic2\", \"Topic2\", \"Topic2\", \"Topic2\", \"Topic2\", \"Topic2\", \"Topic2\", \"Topic2\", \"Topic2\", \"Topic2\", \"Topic2\", \"Topic2\", \"Topic2\", \"Topic2\", \"Topic2\", \"Topic2\", \"Topic2\", \"Topic3\", \"Topic3\", \"Topic3\", \"Topic3\", \"Topic3\", \"Topic3\", \"Topic3\", \"Topic3\", \"Topic3\", \"Topic3\", \"Topic3\", \"Topic3\", \"Topic3\", \"Topic3\", \"Topic3\", \"Topic3\", \"Topic3\", \"Topic3\", \"Topic3\", \"Topic3\", \"Topic3\", \"Topic3\", \"Topic3\", \"Topic3\", \"Topic3\", \"Topic3\", \"Topic3\", \"Topic3\", \"Topic3\", \"Topic3\", \"Topic3\", \"Topic3\", \"Topic3\", \"Topic3\", \"Topic3\", \"Topic3\", \"Topic3\", \"Topic3\", \"Topic3\", \"Topic3\", \"Topic3\", \"Topic3\", \"Topic3\", \"Topic3\", \"Topic3\", \"Topic3\", \"Topic3\", \"Topic3\", \"Topic3\", \"Topic4\", \"Topic4\", \"Topic4\", \"Topic4\", \"Topic4\", \"Topic4\", \"Topic4\", \"Topic4\", \"Topic4\", \"Topic4\", \"Topic4\", \"Topic4\", \"Topic4\", \"Topic4\", \"Topic4\", \"Topic4\", \"Topic4\", \"Topic4\", \"Topic4\", \"Topic4\", \"Topic4\", \"Topic4\", \"Topic4\", \"Topic4\", \"Topic4\", \"Topic4\", \"Topic4\", \"Topic4\", \"Topic4\", \"Topic4\", \"Topic4\", \"Topic4\", \"Topic4\", \"Topic4\", \"Topic4\", \"Topic4\", \"Topic4\", \"Topic4\", \"Topic4\", \"Topic4\", \"Topic4\", \"Topic4\", \"Topic4\", \"Topic4\", \"Topic4\", \"Topic4\", \"Topic4\", \"Topic4\", \"Topic4\", \"Topic4\", \"Topic4\", \"Topic4\", \"Topic4\", \"Topic4\", \"Topic4\", \"Topic4\", \"Topic4\", \"Topic4\", \"Topic4\", \"Topic4\", \"Topic4\", \"Topic5\", \"Topic5\", \"Topic5\", \"Topic5\", \"Topic5\", \"Topic5\", \"Topic5\", \"Topic5\", \"Topic5\", \"Topic5\", \"Topic5\", \"Topic5\", \"Topic5\", \"Topic5\", \"Topic5\", \"Topic5\", \"Topic5\", \"Topic5\", \"Topic5\", \"Topic5\", \"Topic5\", \"Topic5\", \"Topic5\", \"Topic5\", \"Topic5\", \"Topic5\", \"Topic5\", \"Topic5\", \"Topic5\", \"Topic5\", \"Topic5\", \"Topic5\", \"Topic5\", \"Topic5\", \"Topic5\", \"Topic5\", \"Topic5\", \"Topic5\", \"Topic5\", \"Topic5\", \"Topic5\", \"Topic5\", \"Topic5\", \"Topic5\", \"Topic5\", \"Topic5\", \"Topic5\", \"Topic5\", \"Topic5\", \"Topic5\", \"Topic5\", \"Topic5\", \"Topic5\", \"Topic5\", \"Topic5\", \"Topic5\", \"Topic5\", \"Topic5\", \"Topic6\", \"Topic6\", \"Topic6\", \"Topic6\", \"Topic6\", \"Topic6\", \"Topic6\", \"Topic6\", \"Topic6\", \"Topic6\", \"Topic6\", \"Topic6\", \"Topic6\", \"Topic6\", \"Topic6\", \"Topic6\", \"Topic6\", \"Topic6\", \"Topic6\", \"Topic6\", \"Topic6\", \"Topic6\", \"Topic6\", \"Topic6\", \"Topic6\", \"Topic6\", \"Topic6\", \"Topic6\", \"Topic6\", \"Topic6\", \"Topic6\", \"Topic6\", \"Topic6\", \"Topic6\", \"Topic6\", \"Topic6\", \"Topic6\", \"Topic6\", \"Topic6\", \"Topic6\", \"Topic6\", \"Topic6\", \"Topic6\", \"Topic6\", \"Topic6\", \"Topic6\", \"Topic6\", \"Topic6\", \"Topic6\", \"Topic6\", \"Topic6\", \"Topic6\"], \"logprob\": [30.0, 29.0, 28.0, 27.0, 26.0, 25.0, 24.0, 23.0, 22.0, 21.0, 20.0, 19.0, 18.0, 17.0, 16.0, 15.0, 14.0, 13.0, 12.0, 11.0, 10.0, 9.0, 8.0, 7.0, 6.0, 5.0, 4.0, 3.0, 2.0, 1.0, -4.6807, -4.927, -5.0305, -5.0811, -4.8875, -4.7568, -5.2248, -5.2666, -5.392, -5.0786, -5.4682, -4.4012, -5.6356, -5.5124, -5.5947, -5.555, -5.8368, -5.644, -5.7537, -4.4713, -5.7387, -4.3582, -5.8813, -5.8099, -5.979, -6.1376, -5.9635, -6.0917, -4.5731, -5.5615, -4.9411, -5.3587, -5.2693, -4.7634, -4.8349, -5.4198, -4.7862, -5.0696, -4.6577, -4.5198, -4.731, -4.8545, -5.1731, -5.3124, -5.0945, -4.9201, -5.2946, -4.5099, -4.551, -4.8007, -4.6969, -4.8914, -5.2809, -5.3254, -5.3387, -5.5148, -5.4808, -5.633, -4.6574, -5.4975, -5.7647, -5.8015, -5.7842, -5.5026, -5.7074, -5.6316, -5.6186, -5.9421, -4.6198, -5.8313, -6.0511, -6.0294, -5.9278, -5.3022, -6.0633, -6.2329, -6.1819, -4.9083, -5.6393, -5.8116, -4.8497, -5.1046, -4.0756, -4.4736, -5.5013, -5.4644, -4.8895, -5.4844, -5.3658, -5.2339, -5.5862, -4.3297, -4.4811, -4.5259, -4.1485, -4.9612, -5.3336, -5.4192, -5.5797, -5.3978, -5.1206, -5.658, -4.9816, -5.6301, -5.6153, -5.394, -5.6386, -5.895, -5.8265, -5.3526, -5.9453, -6.1449, -5.8888, -5.8734, -5.8593, -5.8594, -6.1056, -5.9195, -3.7946, -5.6425, -3.7132, -4.5988, -5.0239, -5.0991, -5.5582, -4.8789, -4.2913, -5.7491, -3.8754, -5.1369, -5.2848, -4.3346, -5.0337, -5.0214, -5.011, -5.0454, -5.5364, -5.3172, -5.4945, -5.5004, -4.7423, -4.964, -4.8949, -5.1864, -5.1874, -5.1876, -5.0931, -5.2959, -5.6374, -5.4074, -5.9102, -5.5471, -5.7817, -5.6745, -6.1203, -6.054, -6.1527, -6.2593, -5.3553, -6.0371, -6.2656, -6.4934, -6.4284, -6.5309, -6.4008, -6.4998, -6.2313, -6.3788, -6.5444, -6.5103, -5.7991, -3.5262, -5.1142, -6.2507, -5.1719, -5.6224, -4.8766, -5.3805, -5.9727, -4.622, -4.9742, -5.4777, -5.5092, -4.1012, -4.8562, -5.0881, -5.0949, -5.1906, -5.0566, -5.2371, -4.9697, -4.4852, -5.1663, -5.2186, -5.3015, -5.2262, -4.9812, -5.1132, -5.102, -5.2571, -5.2747, -3.9679, -4.3046, -4.8117, -4.9098, -4.2861, -3.3813, -4.4784, -5.2453, -4.7006, -5.4306, -5.9337, -5.2979, -5.9348, -5.915, -6.0356, -6.0902, -6.1446, -6.0443, -6.0449, -6.3079, -6.014, -6.3783, -6.3147, -5.5784, -6.3514, -6.4595, -6.3924, -6.6179, -6.5774, -6.336, -5.998, -5.5238, -5.5203, -5.5995, -5.9505, -4.4969, -5.7117, -5.4228, -5.3377, -3.7934, -4.9842, -4.6149, -5.1519, -5.4528, -5.3185, -5.5408, -4.8378, -4.7834, -4.7402, -5.5022, -5.3091, -4.6431, -4.8359, -5.2683, -5.0402, -5.2557, -5.4399, -5.42, -3.9501, -4.4609, -4.8101, -4.9335, -4.859, -5.3709, -4.6451, -5.1348, -5.4154, -5.1286, -4.86, -5.5719, -5.466, -5.611, -5.6465, -5.885, -5.7853, -5.8694, -5.9365, -5.7911, -6.0124, -6.0143, -5.6029, -6.1797, -6.0781, -6.3478, -6.3191, -6.3912, -6.4634, -6.2071, -5.5294, -4.5753, -5.2569, -6.0591, -5.3411, -5.1668, -5.1155, -4.3773, -4.9455, -5.0207, -3.7273, -4.5946, -4.3896, -4.3589, -5.4766, -4.6918, -4.535, -5.0574, -5.4134, -5.3597, -4.9792, -5.389], \"loglift\": [30.0, 29.0, 28.0, 27.0, 26.0, 25.0, 24.0, 23.0, 22.0, 21.0, 20.0, 19.0, 18.0, 17.0, 16.0, 15.0, 14.0, 13.0, 12.0, 11.0, 10.0, 9.0, 8.0, 7.0, 6.0, 5.0, 4.0, 3.0, 2.0, 1.0, 1.7118, 1.7078, 1.7055, 1.7053, 1.7038, 1.7018, 1.7001, 1.6987, 1.6937, 1.6908, 1.6898, 1.6876, 1.6849, 1.6838, 1.6826, 1.6809, 1.6778, 1.6765, 1.6754, 1.6752, 1.674, 1.6726, 1.6697, 1.6696, 1.6691, 1.6646, 1.6644, 1.6641, 1.6637, 1.6608, 1.6432, 1.6489, 1.6265, 1.5774, 1.5702, 1.6086, 1.5051, 1.5287, 1.3938, 1.2041, 1.2486, 1.2076, 1.3618, 1.4573, 0.9208, 0.208, 0.0311, 1.7385, 1.7382, 1.7353, 1.7318, 1.728, 1.7224, 1.7213, 1.7192, 1.7142, 1.709, 1.7088, 1.7073, 1.7051, 1.7042, 1.7018, 1.7017, 1.7, 1.6958, 1.6951, 1.6936, 1.6921, 1.6898, 1.6896, 1.6885, 1.6882, 1.6866, 1.6794, 1.6762, 1.6757, 1.6753, 1.6746, 1.6728, 1.6739, 1.6459, 1.645, 1.2501, 1.1806, 1.5117, 1.415, 0.8518, 1.3757, 1.1949, 0.8282, 1.2191, 1.7439, 1.7425, 1.7325, 1.7267, 1.7206, 1.7194, 1.7156, 1.7134, 1.713, 1.7115, 1.7092, 1.7079, 1.7068, 1.7067, 1.7049, 1.6982, 1.6953, 1.6897, 1.6893, 1.6841, 1.683, 1.6824, 1.6789, 1.6749, 1.6748, 1.6746, 1.6707, 1.6671, 1.6645, 1.6631, 1.6444, 1.6039, 1.6062, 1.6263, 1.5146, 1.3555, 1.6491, 1.1769, 1.4419, 1.476, 0.9401, 1.2539, 1.0314, 0.832, 0.6785, 1.4845, 0.6623, 1.2237, 1.1811, 1.7621, 1.757, 1.756, 1.7497, 1.7487, 1.7485, 1.7477, 1.7344, 1.7295, 1.7271, 1.719, 1.7175, 1.7165, 1.708, 1.7073, 1.703, 1.6996, 1.6983, 1.6975, 1.6973, 1.692, 1.6804, 1.6787, 1.678, 1.6746, 1.674, 1.6722, 1.6657, 1.6644, 1.6635, 1.6471, 1.5756, 1.6057, 1.6524, 1.5175, 1.5622, 1.4279, 1.486, 1.598, 1.2831, 1.3629, 1.4778, 1.479, 0.9512, 1.1591, 1.2536, 1.2515, 1.2359, 1.1214, 1.244, 0.9966, 0.4837, 1.1274, 1.0721, 1.1251, 0.941, 0.2935, 0.2869, 0.0261, 0.7382, 0.8501, 1.8463, 1.8422, 1.8293, 1.8259, 1.8248, 1.8222, 1.822, 1.8203, 1.8008, 1.797, 1.7913, 1.7912, 1.7903, 1.7881, 1.7826, 1.7781, 1.7763, 1.774, 1.7733, 1.7583, 1.7565, 1.7525, 1.7516, 1.7486, 1.7467, 1.7404, 1.7384, 1.7362, 1.7359, 1.7304, 1.7275, 1.7178, 1.6955, 1.6989, 1.7101, 1.5645, 1.6777, 1.6329, 1.6105, 1.3348, 1.5386, 1.3867, 1.507, 1.5708, 1.5242, 1.5987, 1.277, 1.212, 1.1028, 1.5204, 1.3427, 0.757, 0.1329, 0.9956, 0.2855, 0.8099, 1.1268, 0.5463, 1.8737, 1.8661, 1.8611, 1.8527, 1.8519, 1.8429, 1.8428, 1.8425, 1.8392, 1.8383, 1.8351, 1.8323, 1.8312, 1.8261, 1.8244, 1.8178, 1.8144, 1.812, 1.8108, 1.8086, 1.8056, 1.8037, 1.8013, 1.7966, 1.7901, 1.7827, 1.7787, 1.7733, 1.7726, 1.7694, 1.7542, 1.7058, 1.7016, 1.7593, 1.6708, 1.6476, 1.6378, 1.5184, 1.5976, 1.5868, 1.2416, 1.444, 1.3518, 1.0411, 1.6138, 0.9624, 0.7397, 1.0674, 1.5155, 1.3493, 0.1226, 1.245]}, \"token.table\": {\"Topic\": [1, 3, 4, 5, 6, 2, 3, 4, 6, 2, 3, 4, 5, 6, 3, 4, 5, 1, 2, 4, 5, 6, 1, 2, 3, 1, 3, 4, 5, 6, 2, 4, 5, 6, 1, 2, 3, 4, 5, 6, 1, 2, 3, 4, 5, 6, 1, 2, 4, 5, 6, 1, 3, 4, 5, 6, 1, 2, 3, 2, 3, 4, 5, 2, 4, 5, 6, 1, 2, 3, 6, 4, 5, 1, 3, 4, 5, 3, 4, 5, 3, 4, 5, 1, 2, 6, 1, 2, 3, 4, 5, 6, 1, 2, 3, 4, 5, 6, 1, 2, 3, 4, 5, 6, 1, 2, 3, 5, 6, 1, 2, 3, 4, 5, 6, 1, 2, 5, 6, 1, 2, 3, 4, 5, 6, 1, 3, 4, 5, 1, 2, 3, 4, 5, 6, 1, 2, 3, 4, 5, 6, 1, 3, 4, 5, 6, 1, 2, 3, 4, 5, 6, 3, 4, 5, 6, 1, 2, 3, 4, 5, 6, 1, 2, 3, 4, 5, 1, 2, 3, 4, 5, 6, 1, 3, 4, 5, 6, 1, 2, 5, 1, 2, 3, 4, 5, 6, 1, 2, 3, 4, 5, 6, 1, 2, 3, 4, 5, 6, 1, 3, 4, 6, 1, 2, 4, 5, 6, 1, 2, 3, 4, 5, 6, 3, 4, 5, 6, 3, 4, 5, 6, 1, 2, 3, 4, 5, 6, 2, 5, 6, 2, 5, 6, 1, 2, 3, 4, 5, 6, 1, 2, 4, 6, 2, 3, 4, 5, 2, 4, 5, 1, 2, 3, 4, 5, 6, 1, 3, 4, 5, 6, 1, 3, 4, 6, 1, 3, 6, 2, 3, 4, 5, 6, 1, 3, 4, 5, 6, 1, 2, 3, 4, 5, 6, 3, 4, 5, 6, 1, 2, 3, 4, 5, 6, 1, 2, 3, 4, 5, 6, 1, 3, 4, 5, 6, 1, 3, 4, 5, 6, 3, 4, 5, 6, 2, 4, 5, 6, 1, 2, 3, 4, 5, 1, 3, 4, 5, 6, 1, 2, 3, 4, 5, 6, 1, 3, 4, 5, 6, 1, 2, 3, 4, 5, 6, 1, 3, 4, 5, 6, 1, 2, 3, 5, 6, 1, 2, 3, 4, 5, 6, 1, 3, 1, 2, 3, 4, 5, 6, 1, 3, 4, 5, 6, 2, 3, 4, 5, 6, 2, 3, 4, 5, 6, 1, 3, 4, 5, 6, 1, 2, 3, 4, 5, 6, 3, 4, 5, 6, 2, 6, 1, 2, 4, 5, 6, 1, 2, 5, 6, 1, 2, 3, 4, 5, 6, 1, 2, 3, 4, 1, 2, 3, 4, 5, 6, 2, 4, 6, 1, 2, 3, 6, 2, 5, 6, 1, 2, 3, 4, 5, 6, 1, 3, 5, 1, 2, 6, 1, 2, 5, 6, 1, 3, 4, 5, 6, 1, 2, 3, 4, 5, 6, 1, 3, 4, 5, 6, 2, 6, 1, 2, 3, 4, 5, 6, 2, 3, 5, 6, 1, 2, 3, 4, 5, 6, 1, 2, 3, 4, 5, 6, 2, 5, 6, 1, 2, 3, 4, 5, 6, 1, 2, 4, 5, 6, 1, 2, 3, 4, 5, 6, 2, 3, 4, 5, 6, 2, 5, 1, 3, 4, 6, 1, 2, 3, 4, 5, 6, 1, 3, 4, 5, 6, 1, 3, 4, 5, 6, 1, 2, 3, 4, 5, 6, 1, 2, 3, 4, 5, 6, 1, 3, 4, 5, 1, 2, 3, 4, 5, 6, 1, 2, 3, 4, 5, 6, 1, 2, 5, 6, 1, 2, 3, 4, 5, 6, 1, 2, 3, 4, 5, 6, 1, 2, 3, 4, 5, 6, 1, 2, 3, 4, 6, 1, 2, 3, 4, 5, 6, 1, 2, 3, 4, 5, 6, 1, 2, 3, 4, 5, 6, 1, 2, 3, 4, 5, 6, 2, 3, 4, 5, 6, 1, 3, 4, 5, 6, 2, 6, 1, 2, 6, 1, 2, 6, 2, 3, 4, 5, 6, 1, 2, 3, 4, 5, 6, 1, 2, 3, 4, 5, 6, 2, 6, 1, 3, 6, 2, 3, 4, 5, 6, 1, 2, 3, 4, 5, 6, 1, 2, 3, 4, 5, 6, 1, 2, 3, 4, 5, 6, 1, 3, 4, 5, 6, 1, 3, 4, 5, 6, 1, 3, 4, 6, 1, 2, 3, 4, 6, 2, 3, 4, 5, 6, 1, 3, 4, 5, 6, 1, 2, 3, 4, 5, 6, 1, 2, 3, 4, 5, 6, 2, 5, 6, 1, 2, 3, 4, 5, 6, 1, 3, 4, 5, 6, 1, 2, 3, 4, 5, 6, 1, 2, 3, 4, 5, 6, 1, 2, 3, 4, 5, 6, 1, 2, 3, 4, 5, 1, 2, 3, 4, 5, 6, 1, 2, 3, 4, 5, 6, 1, 2, 3, 4, 5, 6, 1, 2, 3, 4, 5, 6, 1, 2, 3, 4, 5, 6, 3, 4, 5, 6, 3, 4, 5, 6, 1, 2, 3, 4, 5, 6, 1, 2, 3, 4, 5, 6, 1, 2, 3, 4, 5, 6, 1, 2, 3, 4, 5, 6, 1, 2, 3, 4, 5, 6, 1, 2, 3, 4, 5, 6, 1, 4, 5, 1, 3, 4, 5, 6, 2, 3, 5, 6, 1, 3, 4, 5, 6, 2, 3, 4, 5, 6, 1, 2, 3, 4, 5, 6, 1, 2, 3, 4, 5, 6, 1, 2, 3, 4, 5, 6, 1, 3, 5, 6, 1, 2, 3, 4, 5, 6, 1, 2, 3, 4, 5, 6, 1, 2, 3, 4, 5, 6, 1, 2, 3, 4, 5, 6, 1, 2, 6, 1, 2, 3, 5, 6, 1, 2, 3, 4, 5, 6, 1, 3, 4, 5, 6, 2, 3, 4, 5, 6, 1, 2, 3, 4, 5, 6, 1, 3, 4, 5, 6, 1, 2, 3, 4, 5, 6, 2, 3, 4, 5, 6, 1, 2, 3, 5, 6, 1, 2, 3, 4, 5, 6, 1, 2, 3, 4, 5, 6, 2, 4, 5, 1, 3, 1, 2, 3, 5, 6, 2, 5, 6, 1, 2, 3, 4, 5, 6, 1, 2, 3, 4, 1, 2, 3, 4, 5, 6, 1, 2, 3, 4, 5, 6, 1, 2, 3, 4, 5, 6, 1, 2, 4, 5, 6, 1, 1, 2, 3, 4, 5, 6, 3, 4, 5, 6, 2, 3, 4, 5, 6, 1, 2, 3, 4, 5, 6, 3, 4, 5, 1, 2, 3, 4, 5, 6, 1, 2, 3, 4, 5, 6, 1, 3, 1, 2, 3, 4, 5, 6, 1, 3, 4, 5, 6, 1, 2, 3, 4, 5, 1, 2, 3, 4, 5, 6, 1, 2, 3, 4, 5, 5, 1, 4, 5, 1, 2, 3, 4, 5, 6, 1, 3, 4, 5, 6, 5, 1, 2, 3, 4, 5, 6, 1, 3, 6, 1, 2, 3, 4, 5, 6, 2, 3, 4, 5, 6, 2, 3, 4, 5, 6, 1, 3, 4, 5, 6, 4, 5, 6, 1, 2, 3, 4, 5, 6, 1, 2, 3, 4, 5, 6, 2, 4, 6, 1, 3, 4, 5, 1, 3, 4, 5, 6, 1, 3, 4, 5, 1, 2, 5, 6, 1, 2, 5, 6, 1, 3, 4, 5, 6, 1, 2, 5, 6, 2, 3, 5, 6, 2, 5, 6, 1, 2, 3, 4, 5, 6, 1, 2, 3, 4, 5, 6, 1, 2, 6, 1, 3, 4, 5, 6, 1, 2, 3, 4, 5, 6, 1, 2, 3, 4, 5, 6, 1, 3, 4, 5, 6, 2, 4, 5, 1, 3, 4, 5, 6, 1, 2, 3, 4, 5, 6, 1, 2, 3, 4, 5, 6, 1, 3, 4, 5, 6, 1, 2, 3, 4, 5, 6, 1, 2, 3, 4, 5, 6, 2, 3, 4, 5, 6, 1, 2, 3, 4, 5, 1, 2, 3, 4, 5, 6, 1, 2, 3, 4, 5, 6, 1, 2, 5, 6, 1, 3, 4, 5, 6, 1, 2, 3, 4, 5, 6, 1, 2, 3, 4, 5, 6, 1, 3, 4, 5, 6, 1, 2, 3, 4, 5, 6, 1, 2, 3, 4, 5, 6, 1, 3, 4, 5, 6, 1, 3, 4, 6, 1, 2, 3, 4, 5, 1, 2, 3, 4, 5, 6, 1, 2, 3, 4, 5, 6, 1, 3, 4, 5, 6, 1, 2, 3, 4, 5, 1, 2, 3, 4, 5, 6, 1, 2, 3, 4, 5, 6, 1, 2, 3, 4, 5, 6, 1, 3, 4, 5, 6, 1, 2, 3, 4, 5, 6, 1, 3, 4, 5, 6, 1, 2, 3, 4, 5, 6, 1, 2, 3, 4, 5, 6, 1, 2, 3, 4, 5, 6, 1, 2, 3, 4, 5, 6, 1, 2, 3, 4, 5, 1, 2, 3, 4, 5, 6, 1, 2, 3, 4, 5, 6], \"Freq\": [0.017466463538607074, 0.9606554946233892, 0.017466463538607074, 0.017466463538607074, 0.017466463538607074, 0.027416003959551072, 0.027416003959551072, 0.027416003959551072, 0.9321441346247364, 0.03514718750497185, 0.03514718750497185, 0.03514718750497185, 0.8786796876242963, 0.03514718750497185, 0.0354627185514855, 0.8865679637871374, 0.0354627185514855, 0.01202088100943313, 0.01202088100943313, 0.006010440504716565, 0.967680921259367, 0.006010440504716565, 0.9607455026816453, 0.019214910053632905, 0.009607455026816453, 0.9476722467703452, 0.018581808760202847, 0.018581808760202847, 0.018581808760202847, 0.018581808760202847, 0.03748446675516392, 0.03748446675516392, 0.8996272021239341, 0.03748446675516392, 0.01653316524088909, 0.9423904187306781, 0.01653316524088909, 0.01653316524088909, 0.01653316524088909, 0.01653316524088909, 0.009957905800650356, 0.5875164422383711, 0.009957905800650356, 0.09957905800650357, 0.019915811601300713, 0.27882136241821, 0.00826879397727193, 0.9757176893180878, 0.00826879397727193, 0.00826879397727193, 0.00826879397727193, 0.016065472570011587, 0.016065472570011587, 0.08032736285005794, 0.016065472570011587, 0.8836009913506374, 0.9513530257431424, 0.020241553739215795, 0.020241553739215795, 0.03913122315375087, 0.03913122315375087, 0.90001813253627, 0.03913122315375087, 0.9304425798640267, 0.030014276769807315, 0.030014276769807315, 0.030014276769807315, 0.950169646553884, 0.016669642921997966, 0.016669642921997966, 0.016669642921997966, 0.030387104707643116, 0.9116131412292935, 0.0174610959637419, 0.0174610959637419, 0.9428991820420626, 0.0174610959637419, 0.036606002104349764, 0.9151500526087442, 0.036606002104349764, 0.024981968315476933, 0.024981968315476933, 0.9493147959881235, 0.008708985860430533, 0.008708985860430533, 0.9754064163682197, 0.8542655105974633, 0.13347898603085365, 0.006673949301542682, 0.006673949301542682, 0.006673949301542682, 0.006673949301542682, 0.059402560124789026, 0.09691996651939262, 0.6690604140370975, 0.08754061492074172, 0.08441416438785809, 0.003126450532883633, 0.12528421780632018, 0.0062642108903160085, 0.17539790492884824, 0.5888358236897048, 0.04384947623221206, 0.056377898012844076, 0.007348588877316504, 0.03674294438658252, 0.007348588877316504, 0.947967965173829, 0.007348588877316504, 0.011350209717817855, 0.011350209717817855, 0.011350209717817855, 0.9647678260145177, 0.011350209717817855, 0.011350209717817855, 0.023914916948865703, 0.023914916948865703, 0.023914916948865703, 0.9326817610057624, 0.11590049134979337, 0.005795024567489668, 0.046360196539917346, 0.40565171972427677, 0.42303679342674577, 0.005795024567489668, 0.022698328190879018, 0.022698328190879018, 0.9306314558260397, 0.022698328190879018, 0.1492495210940842, 0.005969980843763368, 0.2567091762818248, 0.519388333407413, 0.05969980843763368, 0.005969980843763368, 0.011350325901120806, 0.011350325901120806, 0.011350325901120806, 0.9647777015952685, 0.011350325901120806, 0.011350325901120806, 0.027687764663836444, 0.9413839985704391, 0.027687764663836444, 0.027687764663836444, 0.027687764663836444, 0.0274233584684725, 0.0274233584684725, 0.0274233584684725, 0.0274233584684725, 0.932394187928065, 0.0274233584684725, 0.03212531355958401, 0.03212531355958401, 0.03212531355958401, 0.8995087796683522, 0.014815914759795027, 0.9482185446268817, 0.014815914759795027, 0.014815914759795027, 0.014815914759795027, 0.014815914759795027, 0.016695875356932906, 0.016695875356932906, 0.9516648953451757, 0.016695875356932906, 0.016695875356932906, 0.02142008237341332, 0.02142008237341332, 0.9210635420567728, 0.02142008237341332, 0.02142008237341332, 0.02142008237341332, 0.883759579587475, 0.012447318022358803, 0.012447318022358803, 0.012447318022358803, 0.08713122615651162, 0.028829167660911256, 0.028829167660911256, 0.9225333651491602, 0.008390073116662001, 0.008390073116662001, 0.050340438699972005, 0.016780146233324002, 0.40272350959977604, 0.5285746063497061, 0.0315231667084673, 0.0315231667084673, 0.0315231667084673, 0.9141718345455516, 0.0315231667084673, 0.0315231667084673, 0.011827725762120034, 0.011827725762120034, 0.011827725762120034, 0.011827725762120034, 0.011827725762120034, 0.9580457867317228, 0.03913016161748814, 0.03913016161748814, 0.8999937172022272, 0.03913016161748814, 0.013839942612853762, 0.013839942612853762, 0.9411160976740558, 0.013839942612853762, 0.013839942612853762, 0.7981711899982231, 0.005956501417897188, 0.005956501417897188, 0.005956501417897188, 0.17273854111901843, 0.017869504253691562, 0.027420924040785583, 0.027420924040785583, 0.9323114173867098, 0.027420924040785583, 0.009288063267544586, 0.009288063267544586, 0.9752466430921815, 0.009288063267544586, 0.006293799642352985, 0.13216979248941269, 0.01258759928470597, 0.5916171663811806, 0.22028298748235448, 0.044056597496470895, 0.9771229450185912, 0.0068330275875425955, 0.0068330275875425955, 0.9248714268078488, 0.015946059082893944, 0.047838177248681835, 0.009419085428069917, 0.8948131156666421, 0.009419085428069917, 0.009419085428069917, 0.07535268342455934, 0.018838170856139834, 0.01773654401559779, 0.03547308803119558, 0.9223002888110851, 0.01773654401559779, 0.9441306494547049, 0.019669388530306354, 0.019669388530306354, 0.019669388530306354, 0.963541087097937, 0.012678172198657064, 0.012678172198657064, 0.10705496635554547, 0.021410993271109097, 0.021410993271109097, 0.8350287375732547, 0.021410993271109097, 0.021410993271109097, 0.938060012161244, 0.019542916920025917, 0.019542916920025917, 0.019542916920025917, 0.019542916920025917, 0.028825431021204457, 0.028825431021204457, 0.028825431021204457, 0.9224137926785426, 0.9181331998656045, 0.06387013564282466, 0.007983766955353083, 0.03748579172806466, 0.03748579172806466, 0.03748579172806466, 0.8996590014735518, 0.03748579172806466, 0.9621931233716386, 0.013180727717419708, 0.013180727717419708, 0.013180727717419708, 0.013180727717419708, 0.01238861235619506, 0.19821779769912096, 0.01238861235619506, 0.01238861235619506, 0.7557053537278987, 0.02477722471239012, 0.0073706174634111995, 0.9802921226336895, 0.0073706174634111995, 0.0073706174634111995, 0.0245144300441005, 0.784461761411216, 0.1716010103087035, 0.01225721502205025, 0.01225721502205025, 0.01225721502205025, 0.8573972695491886, 0.006258374230286049, 0.03755024538171629, 0.006258374230286049, 0.006258374230286049, 0.08761723922400468, 0.7591739165688125, 0.2114155210697959, 0.00960979641226345, 0.00960979641226345, 0.00960979641226345, 0.024439142858553062, 0.024439142858553062, 0.024439142858553062, 0.9286874286250164, 0.024439142858553062, 0.9307933494162488, 0.022702276815030457, 0.022702276815030457, 0.022702276815030457, 0.08507682412655325, 0.009452980458505917, 0.12288874596057693, 0.7845973780559912, 0.019661763693539527, 0.9241028935963578, 0.019661763693539527, 0.019661763693539527, 0.03932352738707905, 0.03406114462881138, 0.8912666177872312, 0.06244543181948753, 0.00567685743813523, 0.00567685743813523, 0.22521726796961947, 0.007507242265653983, 0.015014484531307966, 0.007507242265653983, 0.7282024997684363, 0.022521726796961947, 0.2551666292012677, 0.6052789808960304, 0.005934107655843434, 0.005934107655843434, 0.13055036842855555, 0.019376841534981655, 0.019376841534981655, 0.019376841534981655, 0.019376841534981655, 0.019376841534981655, 0.949465235214101, 0.0123751555080507, 0.1980024881288112, 0.0123751555080507, 0.7177590194669405, 0.0742509330483042, 0.9635001444451267, 0.014169119771251864, 0.014169119771251864, 0.014169119771251864, 0.014169119771251864, 0.029863084857365635, 0.029863084857365635, 0.029863084857365635, 0.8958925457209691, 0.029863084857365635, 0.029863084857365635, 0.9772154429040014, 0.009772154429040013, 0.035871044620412754, 0.15544119335512194, 0.047828059493883676, 0.741334922155197, 0.011957014873470919, 0.011957014873470919, 0.016446251308839192, 0.9045438219861556, 0.016446251308839192, 0.016446251308839192, 0.04933875392651758, 0.00844960975212955, 0.00844960975212955, 0.00844960975212955, 0.9717051214948983, 0.00844960975212955, 0.9415424972990841, 0.01810658648652085, 0.01810658648652085, 0.01810658648652085, 0.01810658648652085, 0.9445914804093543, 0.02099092178687454, 0.02099092178687454, 0.02099092178687454, 0.02099092178687454, 0.28366095866399094, 0.0060353395460423604, 0.0060353395460423604, 0.7000993873409138, 0.0060353395460423604, 0.0060353395460423604, 0.02767988559065435, 0.9411161100822479, 0.02767988559065435, 0.02767988559065435, 0.4055232997858299, 0.5876651208760756, 0.008918620040392688, 0.008918620040392688, 0.026755860121178063, 0.008918620040392688, 0.9542923443220175, 0.025545264255495387, 0.025545264255495387, 0.025545264255495387, 0.9196295131978339, 0.0068193150369512375, 0.1295669857020735, 0.0068193150369512375, 0.518267942808294, 0.32050780673670815, 0.013638630073902475, 0.021833059480480792, 0.021833059480480792, 0.9388215576606741, 0.021833059480480792, 0.07918912756412633, 0.21996979878923978, 0.5631226849004538, 0.00879879195156959, 0.00879879195156959, 0.11438429537040469, 0.03211781319467336, 0.03211781319467336, 0.9314165826455276, 0.969954486007261, 0.011686198626593506, 0.011686198626593506, 0.011686198626593506, 0.04164216646842404, 0.04164216646842404, 0.8744854958369047, 0.009770001859359565, 0.009770001859359565, 0.009770001859359565, 0.009770001859359565, 0.009770001859359565, 0.9672301840765969, 0.9756141882272992, 0.00929156369740285, 0.00929156369740285, 0.015607283494894405, 0.015607283494894405, 0.9520442931885587, 0.005895570522070395, 0.14738926305175987, 0.005895570522070395, 0.8371710141339961, 0.004790963866688735, 0.9869385565378795, 0.004790963866688735, 0.004790963866688735, 0.004790963866688735, 0.0018129223457549162, 0.0018129223457549162, 0.00906461172877458, 0.8140021332439573, 0.0018129223457549162, 0.17222762284671703, 0.0039289319936044705, 0.9704462024203043, 0.019644659968022355, 0.0039289319936044705, 0.0039289319936044705, 0.9583811724012014, 0.015212399561923832, 0.9362622186584237, 0.005640133847339902, 0.005640133847339902, 0.05076120462605912, 0.005640133847339902, 0.005640133847339902, 0.9401998492034007, 0.006065805478731617, 0.006065805478731617, 0.04852644382985294, 0.016286734183986882, 0.016286734183986882, 0.016286734183986882, 0.016286734183986882, 0.016286734183986882, 0.9446305826712392, 0.07865018496325826, 0.24982999929505567, 0.009252962936853914, 0.013879444405280869, 0.004626481468426957, 0.643080924111347, 0.02203925100279085, 0.02203925100279085, 0.9256485421172157, 0.9455183064714018, 0.009179789383217493, 0.009179789383217493, 0.032129262841261226, 0.004589894691608747, 0.004589894691608747, 0.025507978979502736, 0.025507978979502736, 0.9182872432620985, 0.012753989489751368, 0.012753989489751368, 0.002006991132637046, 0.002006991132637046, 0.026090884724281598, 0.002006991132637046, 0.9673697259310562, 0.002006991132637046, 0.012791575181776269, 0.012791575181776269, 0.1662904773630915, 0.8058692364519049, 0.025583150363552538, 0.12009770294799577, 0.8556961335044698, 0.026398665363086563, 0.9239532877080298, 0.026398665363086563, 0.026398665363086563, 0.043661784210011816, 0.021830892105005908, 0.9168974684102481, 0.021830892105005908, 0.021830892105005908, 0.021830892105005908, 0.022290628340087944, 0.16940877538466836, 0.17832502672070355, 0.6241375935224625, 0.004458125668017589, 0.12502208380071622, 0.017860297685816606, 0.017860297685816606, 0.8394339912333805, 0.017860297685816606, 0.9579128015070705, 0.015965213358451174, 0.015965213358451174, 0.015965213358451174, 0.015965213358451174, 0.015965213358451174, 0.33269646693873084, 0.10456174675217254, 0.004752806670553298, 0.2043706868337918, 0.351707693620944, 0.004752806670553298, 0.01621915172976077, 0.9569299520558855, 0.01621915172976077, 0.01621915172976077, 0.590943301961666, 0.050652283025285655, 0.3410587057035901, 0.01013045660505713, 0.003376818868352377, 0.003376818868352377, 0.06275486834424207, 0.007844358543030259, 0.4157510027806037, 0.031377434172121035, 0.486350229667876, 0.007844358543030259, 0.005154517757304029, 0.005154517757304029, 0.9845128916450697, 0.005154517757304029, 0.009044366773973907, 0.3979521380548519, 0.009044366773973907, 0.009044366773973907, 0.009044366773973907, 0.587883840308304, 0.01072402918471022, 0.7077859261908745, 0.03217208755413066, 0.01072402918471022, 0.13941237940123286, 0.10724029184710221, 0.060719954625675074, 0.004047996975045005, 0.17811186690198022, 0.6071995462567508, 0.14167989412657517, 0.00809599395009001, 0.040527667549928335, 0.040527667549928335, 0.040527667549928335, 0.8916086860984234, 0.040527667549928335, 0.01031859161985051, 0.01031859161985051, 0.01031859161985051, 0.9699476122659478, 0.01031859161985051, 0.01031859161985051, 0.01187872631796471, 0.9265406528012473, 0.01187872631796471, 0.01187872631796471, 0.01187872631796471, 0.03563617895389413, 0.03438800303609922, 0.03438800303609922, 0.03438800303609922, 0.8940880789385797, 0.03438800303609922, 0.03438800303609922, 0.8176759605072486, 0.00809580158918068, 0.00809580158918068, 0.12953282542689087, 0.01619160317836136, 0.03238320635672272, 0.9378910932212219, 0.025348407924897887, 0.025348407924897887, 0.025348407924897887, 0.025348407924897887, 0.009010918603924065, 0.8560372673727862, 0.12615286045493693, 0.009010918603924065, 0.009010918603924065, 0.9393437351741057, 0.033547990541932346, 0.02281390952009249, 0.935370290323792, 0.02281390952009249, 0.02443303781125129, 0.02443303781125129, 0.9284554368275489, 0.03626720344876545, 0.03626720344876545, 0.03626720344876545, 0.03626720344876545, 0.9066800862191363, 0.011268489712962957, 0.011268489712962957, 0.011268489712962957, 0.2817122428240739, 0.011268489712962957, 0.6873778724907403, 0.011606838417888628, 0.12767522259677488, 0.011606838417888628, 0.011606838417888628, 0.011606838417888628, 0.8356923660879811, 0.014982345018716892, 0.9588700811978811, 0.9819987806739043, 0.006590595843449023, 0.006590595843449023, 0.027427476343254705, 0.027427476343254705, 0.05485495268650941, 0.027427476343254705, 0.8776792429841506, 0.6914632998782457, 0.08358347580945827, 0.007598497800859843, 0.007598497800859843, 0.20515944062321576, 0.007598497800859843, 0.007661778801506871, 0.022985336404520613, 0.08427956681657559, 0.1302502396256168, 0.007661778801506871, 0.7508543225476734, 0.18608018405293505, 0.05168894001470418, 0.010337788002940836, 0.02067557600588167, 0.7133073722029177, 0.010337788002940836, 0.026713724847179095, 0.9483372320748579, 0.013356862423589548, 0.013356862423589548, 0.013356862423589548, 0.020456973110253275, 0.9512492496267774, 0.010228486555126638, 0.010228486555126638, 0.010228486555126638, 0.9764306686635531, 0.0112233410191213, 0.0112233410191213, 0.0112233410191213, 0.03913023180148601, 0.03913023180148601, 0.03913023180148601, 0.8999953314341782, 0.03913023180148601, 0.027415203496098123, 0.027415203496098123, 0.027415203496098123, 0.027415203496098123, 0.9321169188673363, 0.04128072679975976, 0.9288163529945948, 0.02064036339987988, 0.02064036339987988, 0.02064036339987988, 0.10484723598897738, 0.004992725523284637, 0.13979631465196984, 0.1747453933149623, 0.5591852586078794, 0.014978176569853912, 0.008338532915311577, 0.008338532915311577, 0.8588688902770925, 0.008338532915311577, 0.11673946081436208, 0.008338532915311577, 0.026144681066914113, 0.915063837341994, 0.052289362133828225, 0.0015871708020952081, 0.014284537218856874, 0.0063486832083808325, 0.2729933779603758, 0.17935030063675853, 0.5269407062956091, 0.11413193499707722, 0.016304562142439603, 0.016304562142439603, 0.8478372314068593, 0.016304562142439603, 0.0024429116029750053, 0.004885823205950011, 0.004885823205950011, 0.2247478674737005, 0.33223597800460075, 0.42995244212360095, 0.012353599165623426, 0.21001118581559824, 0.7659231482686524, 0.012353599165623426, 0.012353599165623426, 0.012353599165623426, 0.00779796039620745, 0.5692511089231438, 0.00779796039620745, 0.3976959802065799, 0.00779796039620745, 0.0155959207924149, 0.013845699953889335, 0.013845699953889335, 0.9553532968183641, 0.013845699953889335, 0.013845699953889335, 0.0021550164308390494, 0.0021550164308390494, 0.4417783683220051, 0.22627672523810016, 0.010775082154195247, 0.3189424317641793, 0.02101937842376691, 0.02101937842376691, 0.924852650645744, 0.02101937842376691, 0.02101937842376691, 0.02101937842376691, 0.3672819973253726, 0.00854144179826448, 0.00854144179826448, 0.00854144179826448, 0.5979009258785135, 0.01708288359652896, 0.00443029109767252, 0.11518756853948552, 0.00443029109767252, 0.35442328781380156, 0.5272046406230299, 0.00443029109767252, 0.002385417146893152, 0.002385417146893152, 0.9112293501131841, 0.08587501728815347, 0.002385417146893152, 0.002385417146893152, 0.7304208901565373, 0.25405944005444775, 0.007939357501701492, 0.007939357501701492, 0.009153673184277235, 0.9794430307176641, 0.009153673184277235, 0.009153673184277235, 0.024994258788022878, 0.024994258788022878, 0.049988517576045756, 0.024994258788022878, 0.8747990575808008, 0.024994258788022878, 0.0052609199104734035, 0.0052609199104734035, 0.21043679641893612, 0.4313954326588191, 0.21043679641893612, 0.14204483758278189, 0.014816310806891124, 0.948243891641032, 0.014816310806891124, 0.014816310806891124, 0.014816310806891124, 0.014816310806891124, 0.01801701856886757, 0.01801701856886757, 0.9008509284433786, 0.03603403713773514, 0.01801701856886757, 0.03603403713773514, 0.03514066095304959, 0.03514066095304959, 0.03514066095304959, 0.03514066095304959, 0.9136571847792893, 0.03514066095304959, 0.9497339322005558, 0.015318289229041222, 0.015318289229041222, 0.015318289229041222, 0.015318289229041222, 0.015318289229041222, 0.9506285615704183, 0.018281318491738814, 0.018281318491738814, 0.00576367898235606, 0.9740617480181741, 0.01152735796471212, 0.00576367898235606, 0.00576367898235606, 0.9422989662210494, 0.024797341216343406, 0.024797341216343406, 0.024797341216343406, 0.619244967442311, 0.33578776403561933, 0.00436088005241064, 0.00436088005241064, 0.039247920471695764, 0.8986005535216565, 0.007305695557086638, 0.007305695557086638, 0.07305695557086637, 0.014611391114173276, 0.7169218506381543, 0.004685763729661139, 0.20148784037542897, 0.06560069221525594, 0.004685763729661139, 0.014057291188983417, 0.21777390454267612, 0.007445261693766705, 0.005583946270325028, 0.17310233438007588, 0.5937596200778946, 0.0018613154234416761, 0.18380242514923323, 0.011487651571827077, 0.011487651571827077, 0.011487651571827077, 0.7811603068842413, 0.011487651571827077, 0.03747435574893054, 0.03747435574893054, 0.03747435574893054, 0.899384537974333, 0.016531171531289333, 0.9257456057522027, 0.016531171531289333, 0.033062343062578665, 0.016531171531289333, 0.016531171531289333, 0.9047613501204265, 0.010900739158077427, 0.03270221747423228, 0.054503695790387136, 0.010900739158077427, 0.010900739158077427, 0.009127093165046979, 0.009127093165046979, 0.5841339625630066, 0.09127093165046977, 0.3011940744465503, 0.009127093165046979, 0.02742321192772137, 0.02742321192772137, 0.02742321192772137, 0.02742321192772137, 0.9323892055425266, 0.02742321192772137, 0.025345574164082278, 0.9377862440710443, 0.025345574164082278, 0.012918473772661402, 0.012918473772661402, 0.012918473772661402, 0.9688855329496051, 0.012918473772661402, 0.021175073681681165, 0.010587536840840583, 0.021175073681681165, 0.7411275788588407, 0.19057566313513047, 0.010587536840840583, 0.015404176701778597, 0.015404176701778597, 0.06161670680711439, 0.8780380720013801, 0.04621253010533579, 0.018125401554696424, 0.018125401554696424, 0.018125401554696424, 0.03625080310939285, 0.9243954792895177, 0.07482811974964738, 0.006235676645803948, 0.243191389186354, 0.6609817244552185, 0.006235676645803948, 0.018707029937411846, 0.012756716544241497, 0.9567537408181123, 0.012756716544241497, 0.012756716544241497, 0.012756716544241497, 0.1507294868724569, 0.010048632458163795, 0.04019452983265518, 0.010048632458163795, 0.010048632458163795, 0.7938419641949398, 0.03514323098882555, 0.03514323098882555, 0.03514323098882555, 0.9137240057094643, 0.03514323098882555, 0.012820188130296064, 0.9615141097722048, 0.012820188130296064, 0.012820188130296064, 0.012820188130296064, 0.007250210151933684, 0.021750630455801053, 0.007250210151933684, 0.007250210151933684, 0.007250210151933684, 0.9570277400552464, 0.02103993716985166, 0.683797958020179, 0.01051996858492583, 0.01051996858492583, 0.27351918320807156, 0.01051996858492583, 0.9535915314873499, 0.017028420205131248, 0.017028420205131248, 0.9824334422104103, 0.008396867027439404, 0.009061143832791952, 0.009061143832791952, 0.009061143832791952, 0.009061143832791952, 0.9695423901087389, 0.912398621653856, 0.028512456926683, 0.028512456926683, 0.9582083892366188, 0.0048640019758204, 0.0048640019758204, 0.0048640019758204, 0.0048640019758204, 0.0291840118549224, 0.9265514362803019, 0.036574398800538234, 0.024382932533692156, 0.012191466266846078, 0.016945255815675565, 0.016945255815675565, 0.9489343256778316, 0.016945255815675565, 0.016945255815675565, 0.016945255815675565, 0.05820037779390109, 0.014550094448475272, 0.8730056669085163, 0.014550094448475272, 0.014550094448475272, 0.04365028334542582, 0.018730251160874005, 0.018730251160874005, 0.018730251160874005, 0.018730251160874005, 0.018730251160874005, 0.9365125580437003, 0.03627895504924991, 0.03627895504924991, 0.03627895504924991, 0.9069738762312478, 0.03627895504924991, 0.9445799086126706, 0.19864764325373907, 0.013243176216915939, 0.013243176216915939, 0.013243176216915939, 0.013243176216915939, 0.7681042205811245, 0.03152324002337684, 0.9141739606779284, 0.03152324002337684, 0.03152324002337684, 0.007200657162349533, 0.007200657162349533, 0.5832532301503122, 0.20161840054578695, 0.1944177433834374, 0.012616073013394194, 0.025232146026788388, 0.9335894029911703, 0.012616073013394194, 0.012616073013394194, 0.012616073013394194, 0.04052786526796501, 0.8916130358952301, 0.04052786526796501, 0.018901516910924957, 0.018901516910924957, 0.018901516910924957, 0.8694697779025481, 0.037803033821849914, 0.056704550732774875, 0.012244141866254318, 0.17141798612756046, 0.012244141866254318, 0.012244141866254318, 0.012244141866254318, 0.808113363172785, 0.01351618179405627, 0.9596489073779952, 0.025217411208260515, 0.025217411208260515, 0.025217411208260515, 0.9078268034973787, 0.025217411208260515, 0.025217411208260515, 0.02985114665496446, 0.02985114665496446, 0.8656832529939694, 0.05970229330992892, 0.02985114665496446, 0.008534225840058736, 0.008534225840058736, 0.008534225840058736, 0.9729017457666959, 0.008534225840058736, 0.94814702817263, 0.0051529729791990764, 0.020611891916796306, 0.020611891916796306, 0.0051529729791990764, 0.0051529729791990764, 0.016945253376013866, 0.016945253376013866, 0.9489341890567766, 0.016945253376013866, 0.016945253376013866, 0.9905796785990278, 0.04498839783869145, 0.04498839783869145, 0.8997679567738289, 0.44744044527153964, 0.00451960045728828, 0.00903920091457656, 0.5378324544173052, 0.00451960045728828, 0.00451960045728828, 0.01773843079688461, 0.9490060476333265, 0.008869215398442305, 0.008869215398442305, 0.01773843079688461, 0.8903753545097028, 0.03149570975483068, 0.5637732046114693, 0.0031495709754830684, 0.0031495709754830684, 0.0031495709754830684, 0.3968459429108666, 0.9273971673348885, 0.025761032425969128, 0.025761032425969128, 0.15483941801536266, 0.2580656966922711, 0.48328666835098044, 0.004692103576223111, 0.023460517881115556, 0.07507365721956978, 0.022039084173709696, 0.022039084173709696, 0.022039084173709696, 0.022039084173709696, 0.9256415352958073, 0.22879626766879216, 0.008171295273885434, 0.008171295273885434, 0.008171295273885434, 0.7435878699235745, 0.014551372877281133, 0.14551372877281132, 0.8003255082504623, 0.014551372877281133, 0.014551372877281133, 0.04016217160781187, 0.883567775371861, 0.04016217160781187, 0.00886807877031782, 0.00886807877031782, 0.21283389048762769, 0.7715228530176503, 0.00886807877031782, 0.00886807877031782, 0.9568784547347068, 0.014721206995918567, 0.014721206995918567, 0.014721206995918567, 0.014721206995918567, 0.014721206995918567, 0.9406835539377569, 0.020014543700803338, 0.020014543700803338, 0.9368204098107576, 0.015110006609850929, 0.015110006609850929, 0.030220013219701858, 0.005565957525276388, 0.9851744819739207, 0.005565957525276388, 0.005565957525276388, 0.005565957525276388, 0.008801585144221092, 0.9681743658643202, 0.017603170288442185, 0.008801585144221092, 0.9294457655049305, 0.022669408914754403, 0.022669408914754403, 0.022669408914754403, 0.005706096552920416, 0.987154703655232, 0.005706096552920416, 0.005706096552920416, 0.02342327407930468, 0.02342327407930468, 0.02342327407930468, 0.8666611409342732, 0.07026982223791403, 0.022364784897840367, 0.9393209657092955, 0.022364784897840367, 0.022364784897840367, 0.9710972849390219, 0.012138716061737774, 0.012138716061737774, 0.012138716061737774, 0.981416633105005, 0.007607880876782985, 0.007607880876782985, 0.005943845676788376, 0.9866783823468703, 0.005943845676788376, 0.005943845676788376, 0.005943845676788376, 0.005943845676788376, 0.027430229629212606, 0.0091434098764042, 0.0182868197528084, 0.8411937086291865, 0.10972091851685042, 0.0091434098764042, 0.003731985153201911, 0.003731985153201911, 0.9889760655985065, 0.01576376871394649, 0.03152753742789298, 0.9458261228367894, 0.01576376871394649, 0.01576376871394649, 0.005042663694664683, 0.005042663694664683, 0.12606659236661708, 0.39332776818384524, 0.03529864586265278, 0.4437544051304921, 0.004972909180422371, 0.004972909180422371, 0.004972909180422371, 0.019891636721689483, 0.9697172901823623, 0.004972909180422371, 0.028371775146590707, 0.028371775146590707, 0.9078968046909026, 0.028371775146590707, 0.028371775146590707, 0.02498224170590139, 0.02498224170590139, 0.949325184824253, 0.9484312757828777, 0.023132470141045795, 0.023132470141045795, 0.023132470141045795, 0.023132470141045795, 0.011705301052999183, 0.011705301052999183, 0.011705301052999183, 0.011705301052999183, 0.011705301052999183, 0.9598346863459329, 0.014627195717270633, 0.9507677216225912, 0.014627195717270633, 0.014627195717270633, 0.014627195717270633, 0.014627195717270633, 0.016779569351711154, 0.016779569351711154, 0.016779569351711154, 0.9060967449924022, 0.050338708055133456, 0.5920057359638267, 0.39782785456769154, 0.004736045887710614, 0.004736045887710614, 0.004736045887710614, 0.004736045887710614, 0.09938370674274657, 0.004732557463940313, 0.13251160899032877, 0.01419767239182094, 0.7477440793025695, 0.004732557463940313, 0.01812518289573661, 0.01812518289573661, 0.01812518289573661, 0.01812518289573661, 0.9425095105783037, 0.013226272809773624, 0.013226272809773624, 0.013226272809773624, 0.03967881842932087, 0.9390653694939273, 0.1735909736197089, 0.01157273157464726, 0.01157273157464726, 0.7406548207774246, 0.0578636578732363, 0.01157273157464726, 0.008602368998588295, 0.008602368998588295, 0.008602368998588295, 0.2752758079548254, 0.7053942578842402, 0.008602368998588295, 0.019336370550122522, 0.9474821569560037, 0.019336370550122522, 0.019336370550122522, 0.971627549292083, 0.007040779342696254, 0.007040779342696254, 0.007040779342696254, 0.007040779342696254, 0.9501578510194798, 0.01666943598279789, 0.01666943598279789, 0.01666943598279789, 0.01666943598279789, 0.01666943598279789, 0.0038040828050417298, 0.0038040828050417298, 0.3956246117243399, 0.12553473256637707, 0.4717062678251745, 0.0038040828050417298, 0.011350317469697635, 0.011350317469697635, 0.964776984924299, 0.011350317469697635, 0.011350317469697635, 0.00617252411280067, 0.00617252411280067, 0.00617252411280067, 0.00617252411280067, 0.00617252411280067, 0.9814313339353066, 0.16782983376984625, 0.008606658142043398, 0.09036991049145567, 0.4561528815283, 0.271109731474367, 0.004303329071021699, 0.012471157560290028, 0.012471157560290028, 0.9602791321423322, 0.024942315120580056, 0.012471157560290028, 0.038770676194503195, 0.038770676194503195, 0.038770676194503195, 0.8917255524735735, 0.01991089454965704, 0.01991089454965704, 0.01991089454965704, 0.935812043833881, 0.01991089454965704, 0.9727767115302212, 0.008039476954795217, 0.008039476954795217, 0.008039476954795217, 0.008039476954795217, 0.008039476954795217, 0.020369740840815675, 0.9370080786775211, 0.020369740840815675, 0.020369740840815675, 0.020369740840815675, 0.020369740840815675, 0.07619951356912984, 0.7524701964951572, 0.00952493919614123, 0.15239902713825967, 0.00952493919614123, 0.015191249159293664, 0.015191249159293664, 0.015191249159293664, 0.015191249159293664, 0.9418574478762072, 0.032050140288380775, 0.9550941805937472, 0.006410028057676155, 0.006410028057676155, 0.006410028057676155, 0.006410028057676155, 0.08928950727282874, 0.0357158029091315, 0.01785790145456575, 0.4940686069096523, 0.29167905709124053, 0.071431605818263, 0.02064130770948441, 0.02064130770948441, 0.9288588469267984, 0.04128261541896882, 0.02064130770948441, 0.02064130770948441, 0.006597528773358951, 0.7851059240297152, 0.1517431617872559, 0.006597528773358951, 0.052780230186871606, 0.02782004020272241, 0.11128016081088964, 0.013910020101361205, 0.08346012060816722, 0.7789611256762274, 0.013910020101361205, 0.002598296104603488, 0.9146002288204279, 0.08054717924270814, 0.002598296104603488, 0.002598296104603488, 0.006818909942453336, 0.0954647391943467, 0.006818909942453336, 0.5796073451085335, 0.006818909942453336, 0.3136698573528534, 0.22868995978572917, 0.053183711578076553, 0.005318371157807655, 0.5158820023073425, 0.10636742315615311, 0.09041230968273013, 0.02579297666678659, 0.02579297666678659, 0.02579297666678659, 0.9285471600043173, 0.02579297666678659, 0.02579297666678659, 0.18369843895951843, 0.6032566020152087, 0.0022678819624631905, 0.0022678819624631905, 0.20864514054661354, 0.0022678819624631905, 0.020272517312127786, 0.020272517312127786, 0.9325357963578781, 0.020272517312127786, 0.020272517312127786, 0.00401025372154581, 0.00401025372154581, 0.16843065630492401, 0.12832811908946593, 0.00401025372154581, 0.6937738938274252, 0.0017254329086872273, 0.0017254329086872273, 0.5590402624146616, 0.4365345258978685, 0.0017254329086872273, 0.0017254329086872273], \"Term\": [\"accid\", \"accid\", \"accid\", \"accid\", \"accid\", \"activist\", \"activist\", \"activist\", \"activist\", \"addict\", \"addict\", \"addict\", \"addict\", \"addict\", \"adopt\", \"adopt\", \"adopt\", \"adventur\", \"adventur\", \"adventur\", \"adventur\", \"adventur\", \"agent\", \"agent\", \"agent\", \"alien\", \"alien\", \"alien\", \"alien\", \"alien\", \"alway\", \"alway\", \"alway\", \"alway\", \"america\", \"america\", \"america\", \"america\", \"america\", \"america\", \"american\", \"american\", \"american\", \"american\", \"american\", \"american\", \"anim\", \"anim\", \"anim\", \"anim\", \"anim\", \"apart\", \"apart\", \"apart\", \"apart\", \"apart\", \"armi\", \"armi\", \"armi\", \"arrang\", \"arrang\", \"arrang\", \"arrang\", \"athlet\", \"athlet\", \"athlet\", \"athlet\", \"attack\", \"attack\", \"attack\", \"attack\", \"attend\", \"attend\", \"away\", \"away\", \"away\", \"away\", \"bachelor\", \"bachelor\", \"bachelor\", \"bad\", \"bad\", \"bad\", \"base\", \"base\", \"base\", \"battl\", \"battl\", \"battl\", \"battl\", \"battl\", \"battl\", \"becom\", \"becom\", \"becom\", \"becom\", \"becom\", \"becom\", \"begin\", \"begin\", \"begin\", \"begin\", \"begin\", \"begin\", \"best\", \"best\", \"best\", \"best\", \"best\", \"bond\", \"bond\", \"bond\", \"bond\", \"bond\", \"bond\", \"book\", \"book\", \"book\", \"book\", \"boy\", \"boy\", \"boy\", \"boy\", \"boy\", \"boy\", \"boyfriend\", \"boyfriend\", \"boyfriend\", \"boyfriend\", \"brother\", \"brother\", \"brother\", \"brother\", \"brother\", \"brother\", \"busi\", \"busi\", \"busi\", \"busi\", \"busi\", \"busi\", \"businessman\", \"businessman\", \"businessman\", \"businessman\", \"businessman\", \"camp\", \"camp\", \"camp\", \"camp\", \"camp\", \"camp\", \"cancer\", \"cancer\", \"cancer\", \"cancer\", \"captur\", \"captur\", \"captur\", \"captur\", \"captur\", \"captur\", \"car\", \"car\", \"car\", \"car\", \"car\", \"care\", \"care\", \"care\", \"care\", \"care\", \"care\", \"case\", \"case\", \"case\", \"case\", \"case\", \"cat\", \"cat\", \"cat\", \"chang\", \"chang\", \"chang\", \"chang\", \"chang\", \"chang\", \"chao\", \"chao\", \"chao\", \"chao\", \"chao\", \"chao\", \"childhood\", \"childhood\", \"childhood\", \"childhood\", \"childhood\", \"childhood\", \"choos\", \"choos\", \"choos\", \"choos\", \"christma\", \"christma\", \"christma\", \"christma\", \"christma\", \"citi\", \"citi\", \"citi\", \"citi\", \"citi\", \"citi\", \"class\", \"class\", \"class\", \"class\", \"colleg\", \"colleg\", \"colleg\", \"colleg\", \"come\", \"come\", \"come\", \"come\", \"come\", \"come\", \"comedi\", \"comedi\", \"comedi\", \"comedian\", \"comedian\", \"comedian\", \"comic\", \"comic\", \"comic\", \"comic\", \"comic\", \"comic\", \"compani\", \"compani\", \"compani\", \"compani\", \"compet\", \"compet\", \"compet\", \"compet\", \"competit\", \"competit\", \"competit\", \"confront\", \"confront\", \"confront\", \"confront\", \"confront\", \"confront\", \"control\", \"control\", \"control\", \"control\", \"control\", \"convict\", \"convict\", \"convict\", \"convict\", \"cop\", \"cop\", \"cop\", \"cope\", \"cope\", \"cope\", \"cope\", \"cope\", \"corrupt\", \"corrupt\", \"corrupt\", \"corrupt\", \"corrupt\", \"countri\", \"countri\", \"countri\", \"countri\", \"countri\", \"countri\", \"coupl\", \"coupl\", \"coupl\", \"coupl\", \"crew\", \"crew\", \"crew\", \"crew\", \"crew\", \"crew\", \"crime\", \"crime\", \"crime\", \"crime\", \"crime\", \"crime\", \"crimin\", \"crimin\", \"crimin\", \"crimin\", \"crimin\", \"crisi\", \"crisi\", \"crisi\", \"crisi\", \"crisi\", \"cross\", \"cross\", \"cross\", \"cross\", \"cultur\", \"cultur\", \"cultur\", \"cultur\", \"danc\", \"danc\", \"danc\", \"danc\", \"danc\", \"daughter\", \"daughter\", \"daughter\", \"daughter\", \"daughter\", \"day\", \"day\", \"day\", \"day\", \"day\", \"day\", \"death\", \"death\", \"death\", \"death\", \"death\", \"decad\", \"decad\", \"decad\", \"decad\", \"decad\", \"decad\", \"decid\", \"decid\", \"decid\", \"decid\", \"decid\", \"demon\", \"demon\", \"demon\", \"demon\", \"demon\", \"despit\", \"despit\", \"despit\", \"despit\", \"despit\", \"despit\", \"detect\", \"detect\", \"determin\", \"determin\", \"determin\", \"determin\", \"determin\", \"determin\", \"die\", \"die\", \"die\", \"die\", \"die\", \"differ\", \"differ\", \"differ\", \"differ\", \"differ\", \"director\", \"director\", \"director\", \"director\", \"director\", \"disappear\", \"disappear\", \"disappear\", \"disappear\", \"disappear\", \"discov\", \"discov\", \"discov\", \"discov\", \"discov\", \"discov\", \"divorc\", \"divorc\", \"divorc\", \"divorc\", \"documentari\", \"documentari\", \"drama\", \"drama\", \"drama\", \"drama\", \"drama\", \"dramat\", \"dramat\", \"dramat\", \"dramat\", \"dream\", \"dream\", \"dream\", \"dream\", \"dream\", \"dream\", \"driver\", \"driver\", \"driver\", \"driver\", \"drug\", \"drug\", \"drug\", \"drug\", \"drug\", \"drug\", \"earli\", \"earli\", \"earli\", \"earth\", \"earth\", \"earth\", \"earth\", \"educ\", \"educ\", \"educ\", \"event\", \"event\", \"event\", \"event\", \"event\", \"event\", \"evil\", \"evil\", \"evil\", \"examin\", \"examin\", \"examin\", \"explor\", \"explor\", \"explor\", \"explor\", \"fall\", \"fall\", \"fall\", \"fall\", \"fall\", \"famili\", \"famili\", \"famili\", \"famili\", \"famili\", \"famili\", \"father\", \"father\", \"father\", \"father\", \"father\", \"featur\", \"featur\", \"fight\", \"fight\", \"fight\", \"fight\", \"fight\", \"fight\", \"film\", \"film\", \"film\", \"film\", \"filmmak\", \"filmmak\", \"filmmak\", \"filmmak\", \"filmmak\", \"filmmak\", \"follow\", \"follow\", \"follow\", \"follow\", \"follow\", \"follow\", \"food\", \"food\", \"food\", \"forc\", \"forc\", \"forc\", \"forc\", \"forc\", \"forc\", \"form\", \"form\", \"form\", \"form\", \"form\", \"friend\", \"friend\", \"friend\", \"friend\", \"friend\", \"friend\", \"friendship\", \"friendship\", \"friendship\", \"friendship\", \"friendship\", \"fun\", \"fun\", \"gangster\", \"gangster\", \"gangster\", \"gangster\", \"ghost\", \"ghost\", \"ghost\", \"ghost\", \"ghost\", \"ghost\", \"girl\", \"girl\", \"girl\", \"girl\", \"girl\", \"good\", \"good\", \"good\", \"good\", \"good\", \"govern\", \"govern\", \"govern\", \"govern\", \"govern\", \"govern\", \"group\", \"group\", \"group\", \"group\", \"group\", \"group\", \"haunt\", \"haunt\", \"haunt\", \"haunt\", \"help\", \"help\", \"help\", \"help\", \"help\", \"help\", \"hes\", \"hes\", \"hes\", \"hes\", \"hes\", \"hes\", \"high\", \"high\", \"high\", \"high\", \"histori\", \"histori\", \"histori\", \"histori\", \"histori\", \"histori\", \"hit\", \"hit\", \"hit\", \"hit\", \"hit\", \"hit\", \"home\", \"home\", \"home\", \"home\", \"home\", \"home\", \"hong\", \"hong\", \"hong\", \"hong\", \"hong\", \"hope\", \"hope\", \"hope\", \"hope\", \"hope\", \"hope\", \"host\", \"host\", \"host\", \"host\", \"host\", \"host\", \"hot\", \"hot\", \"hot\", \"hot\", \"hot\", \"hot\", \"human\", \"human\", \"human\", \"human\", \"human\", \"human\", \"humor\", \"humor\", \"humor\", \"humor\", \"humor\", \"husband\", \"husband\", \"husband\", \"husband\", \"husband\", \"icon\", \"icon\", \"ii\", \"ii\", \"ii\", \"impact\", \"impact\", \"impact\", \"independ\", \"independ\", \"independ\", \"independ\", \"independ\", \"india\", \"india\", \"india\", \"india\", \"india\", \"india\", \"inspir\", \"inspir\", \"inspir\", \"inspir\", \"inspir\", \"inspir\", \"interview\", \"interview\", \"investig\", \"investig\", \"investig\", \"issu\", \"issu\", \"issu\", \"issu\", \"issu\", \"join\", \"join\", \"join\", \"join\", \"join\", \"join\", \"journey\", \"journey\", \"journey\", \"journey\", \"journey\", \"journey\", \"kid\", \"kid\", \"kid\", \"kid\", \"kid\", \"kid\", \"kidnap\", \"kidnap\", \"kidnap\", \"kidnap\", \"kidnap\", \"kill\", \"kill\", \"kill\", \"kill\", \"kill\", \"killer\", \"killer\", \"killer\", \"killer\", \"kong\", \"kong\", \"kong\", \"kong\", \"kong\", \"later\", \"later\", \"later\", \"later\", \"later\", \"lawyer\", \"lawyer\", \"lawyer\", \"lawyer\", \"lawyer\", \"learn\", \"learn\", \"learn\", \"learn\", \"learn\", \"learn\", \"leav\", \"leav\", \"leav\", \"leav\", \"leav\", \"leav\", \"lesson\", \"lesson\", \"lesson\", \"life\", \"life\", \"life\", \"life\", \"life\", \"life\", \"littl\", \"littl\", \"littl\", \"littl\", \"littl\", \"live\", \"live\", \"live\", \"live\", \"live\", \"live\", \"local\", \"local\", \"local\", \"local\", \"local\", \"local\", \"look\", \"look\", \"look\", \"look\", \"look\", \"look\", \"lose\", \"lose\", \"lose\", \"lose\", \"lose\", \"love\", \"love\", \"love\", \"love\", \"love\", \"love\", \"lover\", \"lover\", \"lover\", \"lover\", \"lover\", \"lover\", \"magic\", \"magic\", \"magic\", \"magic\", \"magic\", \"magic\", \"make\", \"make\", \"make\", \"make\", \"make\", \"make\", \"man\", \"man\", \"man\", \"man\", \"man\", \"man\", \"marri\", \"marri\", \"marri\", \"marri\", \"marriag\", \"marriag\", \"marriag\", \"marriag\", \"media\", \"media\", \"media\", \"media\", \"media\", \"media\", \"meet\", \"meet\", \"meet\", \"meet\", \"meet\", \"meet\", \"member\", \"member\", \"member\", \"member\", \"member\", \"member\", \"memori\", \"memori\", \"memori\", \"memori\", \"memori\", \"memori\", \"misfit\", \"misfit\", \"misfit\", \"misfit\", \"misfit\", \"misfit\", \"miss\", \"miss\", \"miss\", \"miss\", \"miss\", \"miss\", \"monster\", \"monster\", \"monster\", \"mother\", \"mother\", \"mother\", \"mother\", \"mother\", \"movi\", \"movi\", \"movi\", \"movi\", \"murder\", \"murder\", \"murder\", \"murder\", \"murder\", \"music\", \"music\", \"music\", \"music\", \"music\", \"mysteri\", \"mysteri\", \"mysteri\", \"mysteri\", \"mysteri\", \"mysteri\", \"new\", \"new\", \"new\", \"new\", \"new\", \"new\", \"night\", \"night\", \"night\", \"night\", \"night\", \"night\", \"novel\", \"novel\", \"novel\", \"novel\", \"offer\", \"offer\", \"offer\", \"offer\", \"offer\", \"offer\", \"offic\", \"offic\", \"offic\", \"offic\", \"offic\", \"offic\", \"old\", \"old\", \"old\", \"old\", \"old\", \"old\", \"onlin\", \"onlin\", \"onlin\", \"onlin\", \"onlin\", \"onlin\", \"origin\", \"origin\", \"origin\", \"pal\", \"pal\", \"pal\", \"pal\", \"pal\", \"parent\", \"parent\", \"parent\", \"parent\", \"parent\", \"parent\", \"parti\", \"parti\", \"parti\", \"parti\", \"parti\", \"passion\", \"passion\", \"passion\", \"passion\", \"passion\", \"past\", \"past\", \"past\", \"past\", \"past\", \"past\", \"path\", \"path\", \"path\", \"path\", \"path\", \"peopl\", \"peopl\", \"peopl\", \"peopl\", \"peopl\", \"peopl\", \"perfect\", \"perfect\", \"perfect\", \"perfect\", \"perfect\", \"perform\", \"perform\", \"perform\", \"perform\", \"perform\", \"person\", \"person\", \"person\", \"person\", \"person\", \"person\", \"play\", \"play\", \"play\", \"play\", \"play\", \"play\", \"player\", \"player\", \"player\", \"polic\", \"polic\", \"polit\", \"polit\", \"polit\", \"polit\", \"polit\", \"pop\", \"pop\", \"pop\", \"power\", \"power\", \"power\", \"power\", \"power\", \"power\", \"protect\", \"protect\", \"protect\", \"protect\", \"prove\", \"prove\", \"prove\", \"prove\", \"prove\", \"prove\", \"quest\", \"quest\", \"quest\", \"quest\", \"quest\", \"quest\", \"question\", \"question\", \"question\", \"question\", \"question\", \"question\", \"quirki\", \"quirki\", \"quirki\", \"quirki\", \"quirki\", \"ranger\", \"real\", \"real\", \"real\", \"real\", \"real\", \"real\", \"reconnect\", \"reconnect\", \"reconnect\", \"reconnect\", \"relationship\", \"relationship\", \"relationship\", \"relationship\", \"relationship\", \"rescu\", \"rescu\", \"rescu\", \"rescu\", \"rescu\", \"rescu\", \"resort\", \"resort\", \"resort\", \"reunit\", \"reunit\", \"reunit\", \"reunit\", \"reunit\", \"reunit\", \"reveal\", \"reveal\", \"reveal\", \"reveal\", \"reveal\", \"reveal\", \"reveng\", \"reveng\", \"risk\", \"risk\", \"risk\", \"risk\", \"risk\", \"risk\", \"ruin\", \"ruin\", \"ruin\", \"ruin\", \"ruin\", \"run\", \"run\", \"run\", \"run\", \"run\", \"save\", \"save\", \"save\", \"save\", \"save\", \"save\", \"scheme\", \"scheme\", \"scheme\", \"scheme\", \"scheme\", \"school\", \"schooler\", \"schooler\", \"schooler\", \"secret\", \"secret\", \"secret\", \"secret\", \"secret\", \"secret\", \"seek\", \"seek\", \"seek\", \"seek\", \"seek\", \"senior\", \"seri\", \"seri\", \"seri\", \"seri\", \"seri\", \"seri\", \"serial\", \"serial\", \"serial\", \"set\", \"set\", \"set\", \"set\", \"set\", \"set\", \"sexual\", \"sexual\", \"sexual\", \"sexual\", \"sexual\", \"share\", \"share\", \"share\", \"share\", \"share\", \"shes\", \"shes\", \"shes\", \"shes\", \"shes\", \"shi\", \"shi\", \"shi\", \"sister\", \"sister\", \"sister\", \"sister\", \"sister\", \"sister\", \"small\", \"small\", \"small\", \"small\", \"small\", \"small\", \"soccer\", \"soccer\", \"soccer\", \"solv\", \"solv\", \"solv\", \"solv\", \"son\", \"son\", \"son\", \"son\", \"son\", \"soon\", \"soon\", \"soon\", \"soon\", \"space\", \"space\", \"space\", \"space\", \"special\", \"special\", \"special\", \"special\", \"spend\", \"spend\", \"spend\", \"spend\", \"spend\", \"sport\", \"sport\", \"sport\", \"sport\", \"stage\", \"stage\", \"stage\", \"stage\", \"standup\", \"standup\", \"standup\", \"star\", \"star\", \"star\", \"star\", \"star\", \"star\", \"start\", \"start\", \"start\", \"start\", \"start\", \"start\", \"stori\", \"stori\", \"stori\", \"stranger\", \"stranger\", \"stranger\", \"stranger\", \"stranger\", \"struggl\", \"struggl\", \"struggl\", \"struggl\", \"struggl\", \"struggl\", \"student\", \"student\", \"student\", \"student\", \"student\", \"student\", \"suicid\", \"suicid\", \"suicid\", \"suicid\", \"suicid\", \"summer\", \"summer\", \"summer\", \"supernatur\", \"supernatur\", \"supernatur\", \"supernatur\", \"supernatur\", \"tale\", \"tale\", \"tale\", \"tale\", \"tale\", \"tale\", \"talent\", \"talent\", \"talent\", \"talent\", \"talent\", \"talent\", \"teacher\", \"teacher\", \"teacher\", \"teacher\", \"teacher\", \"team\", \"team\", \"team\", \"team\", \"team\", \"team\", \"teen\", \"teen\", \"teen\", \"teen\", \"teen\", \"teen\", \"tell\", \"tell\", \"tell\", \"tell\", \"tell\", \"thing\", \"thing\", \"thing\", \"thing\", \"thing\", \"threaten\", \"threaten\", \"threaten\", \"threaten\", \"threaten\", \"threaten\", \"togeth\", \"togeth\", \"togeth\", \"togeth\", \"togeth\", \"togeth\", \"tour\", \"tour\", \"tour\", \"tour\", \"town\", \"town\", \"town\", \"town\", \"town\", \"track\", \"track\", \"track\", \"track\", \"track\", \"track\", \"tri\", \"tri\", \"tri\", \"tri\", \"tri\", \"tri\", \"troubl\", \"troubl\", \"troubl\", \"troubl\", \"troubl\", \"true\", \"true\", \"true\", \"true\", \"true\", \"true\", \"turn\", \"turn\", \"turn\", \"turn\", \"turn\", \"turn\", \"unexpect\", \"unexpect\", \"unexpect\", \"unexpect\", \"unexpect\", \"unfold\", \"unfold\", \"unfold\", \"unfold\", \"unlik\", \"unlik\", \"unlik\", \"unlik\", \"unlik\", \"use\", \"use\", \"use\", \"use\", \"use\", \"use\", \"video\", \"video\", \"video\", \"video\", \"video\", \"video\", \"villag\", \"villag\", \"villag\", \"villag\", \"villag\", \"want\", \"want\", \"want\", \"want\", \"want\", \"war\", \"war\", \"war\", \"war\", \"war\", \"war\", \"way\", \"way\", \"way\", \"way\", \"way\", \"way\", \"widow\", \"widow\", \"widow\", \"widow\", \"widow\", \"widow\", \"wife\", \"wife\", \"wife\", \"wife\", \"wife\", \"wild\", \"wild\", \"wild\", \"wild\", \"wild\", \"wild\", \"woman\", \"woman\", \"woman\", \"woman\", \"woman\", \"women\", \"women\", \"women\", \"women\", \"women\", \"women\", \"work\", \"work\", \"work\", \"work\", \"work\", \"work\", \"worker\", \"worker\", \"worker\", \"worker\", \"worker\", \"worker\", \"world\", \"world\", \"world\", \"world\", \"world\", \"world\", \"wrong\", \"wrong\", \"wrong\", \"wrong\", \"wrong\", \"year\", \"year\", \"year\", \"year\", \"year\", \"year\", \"young\", \"young\", \"young\", \"young\", \"young\", \"young\"]}, \"R\": 30, \"lambda.step\": 0.01, \"plot.opts\": {\"xlab\": \"PC1\", \"ylab\": \"PC2\"}, \"topic.order\": [1, 6, 2, 5, 3, 4]};\n",
              "\n",
              "function LDAvis_load_lib(url, callback){\n",
              "  var s = document.createElement('script');\n",
              "  s.src = url;\n",
              "  s.async = true;\n",
              "  s.onreadystatechange = s.onload = callback;\n",
              "  s.onerror = function(){console.warn(\"failed to load library \" + url);};\n",
              "  document.getElementsByTagName(\"head\")[0].appendChild(s);\n",
              "}\n",
              "\n",
              "if(typeof(LDAvis) !== \"undefined\"){\n",
              "   // already loaded: just create the visualization\n",
              "   !function(LDAvis){\n",
              "       new LDAvis(\"#\" + \"ldavis_el4141399747912919846547682124\", ldavis_el4141399747912919846547682124_data);\n",
              "   }(LDAvis);\n",
              "}else if(typeof define === \"function\" && define.amd){\n",
              "   // require.js is available: use it to load d3/LDAvis\n",
              "   require.config({paths: {d3: \"https://d3js.org/d3.v5\"}});\n",
              "   require([\"d3\"], function(d3){\n",
              "      window.d3 = d3;\n",
              "      LDAvis_load_lib(\"https://cdn.jsdelivr.net/gh/bmabey/pyLDAvis@3.3.1/pyLDAvis/js/ldavis.v3.0.0.js\", function(){\n",
              "        new LDAvis(\"#\" + \"ldavis_el4141399747912919846547682124\", ldavis_el4141399747912919846547682124_data);\n",
              "      });\n",
              "    });\n",
              "}else{\n",
              "    // require.js not available: dynamically load d3 & LDAvis\n",
              "    LDAvis_load_lib(\"https://d3js.org/d3.v5.js\", function(){\n",
              "         LDAvis_load_lib(\"https://cdn.jsdelivr.net/gh/bmabey/pyLDAvis@3.3.1/pyLDAvis/js/ldavis.v3.0.0.js\", function(){\n",
              "                 new LDAvis(\"#\" + \"ldavis_el4141399747912919846547682124\", ldavis_el4141399747912919846547682124_data);\n",
              "            })\n",
              "         });\n",
              "}\n",
              "</script>"
            ],
            "text/plain": [
              "PreparedData(topic_coordinates=               x          y  topics  cluster       Freq\n",
              "topic                                                  \n",
              "0       1.465019 -47.625065       1        1  17.743535\n",
              "5      54.854797 -36.476795       2        1  17.310397\n",
              "1      32.212929 -61.444572       3        1  17.253094\n",
              "4       5.111096 -14.110332       4        1  16.843330\n",
              "2      26.350170 -33.374702       5        1  15.640322\n",
              "3      38.109818  -7.222781       6        1  15.209323, topic_info=         Term        Freq       Total Category  logprob  loglift\n",
              "1416   friend  498.000000  498.000000  Default  30.0000  30.0000\n",
              "1268   famili  551.000000  551.000000  Default  29.0000  29.0000\n",
              "3986    young  579.000000  579.000000  Default  28.0000  28.0000\n",
              "2174      man  419.000000  419.000000  Default  27.0000  27.0000\n",
              "3952    woman  384.000000  384.000000  Default  26.0000  26.0000\n",
              "...       ...         ...         ...      ...      ...      ...\n",
              "3456  struggl   87.700950  198.307891   Topic6  -5.0574   1.0674\n",
              "1786    india   61.434220   88.743037   Topic6  -5.4134   1.5155\n",
              "1665  histori   64.822265  110.566060   Topic6  -5.3597   1.3493\n",
              "1268   famili   94.836954  551.595606   Topic6  -4.9792   0.1226\n",
              "572     chang   62.954818  119.188473   Topic6  -5.3890   1.2450\n",
              "\n",
              "[341 rows x 6 columns], token_table=      Topic      Freq   Term\n",
              "term                        \n",
              "69        1  0.017466  accid\n",
              "69        3  0.960655  accid\n",
              "69        4  0.017466  accid\n",
              "69        5  0.017466  accid\n",
              "69        6  0.017466  accid\n",
              "...     ...       ...    ...\n",
              "3986      2  0.001725  young\n",
              "3986      3  0.559040  young\n",
              "3986      4  0.436535  young\n",
              "3986      5  0.001725  young\n",
              "3986      6  0.001725  young\n",
              "\n",
              "[1423 rows x 3 columns], R=30, lambda_step=0.01, plot_opts={'xlab': 'PC1', 'ylab': 'PC2'}, topic_order=[1, 6, 2, 5, 3, 4])"
            ]
          },
          "metadata": {},
          "execution_count": 54
        }
      ]
    },
    {
      "cell_type": "markdown",
      "metadata": {
        "id": "xcThAg8uMwP_"
      },
      "source": [
        "# **Summary**\n",
        "\n",
        "## 1. International Movies , Drama and Comedy are the top three genres\n",
        "\n",
        "## 2. There is more movie content than TV shows content on Netflix .\n",
        "\n",
        "## 3. United States , India and United Kingdom are the top three countries which produced most number of Movies / TV shows.\n",
        "\n",
        "## 4. Netflix added highest content in the year 2019 followed by 2020 and 2018.\n",
        "\n",
        "## 5. December , October and January are the peak months where the content got added on Netflix.\n",
        "\n",
        "## 6. Anupam Kher , Shah Rukh Khan , Om Puri and Nazeeruddin Shah were the top actors on Netflix content.\n",
        "\n",
        "## 7. Raul Campos, Jan Suter , Marcus Raboy and Jay Karas were the top directors.\n",
        "\n",
        "## 8. Netflix is increasingly focusing on Movies in recent years.\n",
        "\n",
        "## 9. Life , Young , Famili , New , Friend are the most common words in our corpus.\n",
        "\n",
        "## 10. 6 clusters were generated after clustering ( Topic Modelling ).After analysing the top words in the clusters we were able to name them as \n",
        "\n",
        "##      Cluster  --      Name   --               Top relevant words\n",
        "##         1    --       Crime    --     (forc, power , save)\n",
        "##         2    --       International movie  -- (world , seri , special)\n",
        "##         3    --       Romantic      --  (man , woman , young)\n",
        "##         4    --     Drama     --    (famili , young , life)\n",
        "##         5    --       Children and family movies   -- (friend , new , school)\n",
        "##         6    --       Documentary  --  (life , story , live)\n",
        "\n",
        "## Best LDA model's params {'n_components': 6}\n",
        "## Best log likelihood Score for the LDA model -253836.02384182703\n",
        "## LDA model Perplexity on train data 2420.7262111022806\n",
        "\n",
        "\n",
        "\n",
        "\n",
        "\n",
        "\n",
        "\n",
        "\n",
        "\n"
      ]
    }
  ]
}